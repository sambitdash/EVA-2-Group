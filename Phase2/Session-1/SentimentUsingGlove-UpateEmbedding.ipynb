{
  "nbformat": 4,
  "nbformat_minor": 0,
  "metadata": {
    "colab": {
      "name": "WordEmbeddings_v2.ipynb",
      "provenance": [],
      "collapsed_sections": [],
      "toc_visible": true,
      "include_colab_link": true
    },
    "kernelspec": {
      "name": "python3",
      "display_name": "Python 3"
    },
    "accelerator": "GPU"
  },
  "cells": [
    {
      "cell_type": "markdown",
      "metadata": {
        "id": "view-in-github",
        "colab_type": "text"
      },
      "source": [
        "<a href=\"https://colab.research.google.com/github/sambitdash/EVA-2-Group/blob/master/Phase2/Session-1/SentimentUsingGlove-UpateEmbedding.ipynb\" target=\"_parent\"><img src=\"https://colab.research.google.com/assets/colab-badge.svg\" alt=\"Open In Colab\"/></a>"
      ]
    },
    {
      "cell_type": "markdown",
      "metadata": {
        "id": "UF6Ncv-cKM6F",
        "colab_type": "text"
      },
      "source": [
        "# Sentiment Prediction From Movie Reviews\n",
        "\n",
        "* Use GloVe Word Embeddings"
      ]
    },
    {
      "cell_type": "markdown",
      "metadata": {
        "id": "az62f2ZNqZJU",
        "colab_type": "text"
      },
      "source": [
        "The code is extracted from the book - [Deep Learning with Python - Francois Chollet](http://faculty.neu.edu.cn/yury/AAI/Textbook/Deep%20Learning%20with%20Python.pdf).\n",
        "\n",
        "Refer to Chapter 6 - Deep leraning for text and sequences.\n"
      ]
    },
    {
      "cell_type": "markdown",
      "metadata": {
        "id": "Yg01Yyg9NF-N",
        "colab_type": "text"
      },
      "source": [
        "## Imports"
      ]
    },
    {
      "cell_type": "code",
      "metadata": {
        "id": "-W266gFYNHph",
        "colab_type": "code",
        "colab": {}
      },
      "source": [
        "import numpy as np\n",
        "import os"
      ],
      "execution_count": 0,
      "outputs": []
    },
    {
      "cell_type": "markdown",
      "metadata": {
        "id": "lJTK7WNMRSKK",
        "colab_type": "text"
      },
      "source": [
        "## Download IMDB Raw Dataset\n",
        "\n",
        "There is Imdb dataset as part of Keras dataset as well.\n",
        "But, they are optimized and provide the reviews in terms of integers (word indices). There may be a way to obatin the real review (by fetching the real word from the word-index).\n",
        "\n",
        "Instead the Raw Imdb dataset is provided by the Keras author at the below mentioned url location. Let's make use of that."
      ]
    },
    {
      "cell_type": "code",
      "metadata": {
        "id": "ntcPqmZ9RWde",
        "colab_type": "code",
        "outputId": "c99d2787-fa26-45b7-82a3-b605fd9330a2",
        "colab": {
          "base_uri": "https://localhost:8080/",
          "height": 424
        }
      },
      "source": [
        "## keras provides the processed Imdb dataset as list of word-indexes.\n",
        "## We need to get the raw Imdb dataset\n",
        "!wget --no-check-certificate http://mng.bz/0tIo"
      ],
      "execution_count": 2,
      "outputs": [
        {
          "output_type": "stream",
          "text": [
            "--2020-01-22 16:26:27--  http://mng.bz/0tIo\n",
            "Resolving mng.bz (mng.bz)... 35.166.24.88\n",
            "Connecting to mng.bz (mng.bz)|35.166.24.88|:80... connected.\n",
            "HTTP request sent, awaiting response... 301 Moved Permanently\n",
            "Location: https://mng.bz/0tIo [following]\n",
            "--2020-01-22 16:26:28--  https://mng.bz/0tIo\n",
            "Connecting to mng.bz (mng.bz)|35.166.24.88|:443... connected.\n",
            "WARNING: cannot verify mng.bz's certificate, issued by ‘CN=Go Daddy Secure Certificate Authority - G2,OU=http://certs.godaddy.com/repository/,O=GoDaddy.com\\\\, Inc.,L=Scottsdale,ST=Arizona,C=US’:\n",
            "  Unable to locally verify the issuer's authority.\n",
            "HTTP request sent, awaiting response... 301 \n",
            "Location: http://s3.amazonaws.com/text-datasets/aclImdb.zip [following]\n",
            "--2020-01-22 16:26:28--  http://s3.amazonaws.com/text-datasets/aclImdb.zip\n",
            "Resolving s3.amazonaws.com (s3.amazonaws.com)... 52.217.41.14\n",
            "Connecting to s3.amazonaws.com (s3.amazonaws.com)|52.217.41.14|:80... connected.\n",
            "HTTP request sent, awaiting response... 200 OK\n",
            "Length: 60711700 (58M) [application/zip]\n",
            "Saving to: ‘0tIo’\n",
            "\n",
            "0tIo                100%[===================>]  57.90M  26.0MB/s    in 2.2s    \n",
            "\n",
            "2020-01-22 16:26:31 (26.0 MB/s) - ‘0tIo’ saved [60711700/60711700]\n",
            "\n"
          ],
          "name": "stdout"
        }
      ]
    },
    {
      "cell_type": "code",
      "metadata": {
        "id": "hH3Klm8DaEms",
        "colab_type": "code",
        "colab": {}
      },
      "source": [
        "!unzip -q 0tIo"
      ],
      "execution_count": 0,
      "outputs": []
    },
    {
      "cell_type": "markdown",
      "metadata": {
        "id": "Z9w2IM1_ijI6",
        "colab_type": "text"
      },
      "source": [
        "## Check Dataset\n",
        "Count number of positive and negative examples (12500 each)\n",
        "\n"
      ]
    },
    {
      "cell_type": "code",
      "metadata": {
        "id": "UJHwL0v1bpNA",
        "colab_type": "code",
        "outputId": "9ee00e00-633e-41c2-c1fb-0299b235ee5e",
        "colab": {
          "base_uri": "https://localhost:8080/",
          "height": 34
        }
      },
      "source": [
        "!ls -1 aclImdb/train/neg | wc -l"
      ],
      "execution_count": 4,
      "outputs": [
        {
          "output_type": "stream",
          "text": [
            "12500\n"
          ],
          "name": "stdout"
        }
      ]
    },
    {
      "cell_type": "code",
      "metadata": {
        "id": "srylwQKxiWOw",
        "colab_type": "code",
        "outputId": "64411481-8e0c-47d8-dcc7-89e03900df9c",
        "colab": {
          "base_uri": "https://localhost:8080/",
          "height": 34
        }
      },
      "source": [
        "!ls -1 aclImdb/train/pos | wc -l"
      ],
      "execution_count": 5,
      "outputs": [
        {
          "output_type": "stream",
          "text": [
            "12500\n"
          ],
          "name": "stdout"
        }
      ]
    },
    {
      "cell_type": "markdown",
      "metadata": {
        "id": "l_5h832uRPRz",
        "colab_type": "text"
      },
      "source": [
        "## Read Imdb Dataset"
      ]
    },
    {
      "cell_type": "markdown",
      "metadata": {
        "id": "zzhaGQPHs_Jt",
        "colab_type": "text"
      },
      "source": [
        "Read the dataset by going over both postive and negative review directories under **train** folder of the dataset."
      ]
    },
    {
      "cell_type": "code",
      "metadata": {
        "id": "1E80qgrVg8er",
        "colab_type": "code",
        "colab": {}
      },
      "source": [
        "imdb_dir = '/content/aclImdb'\n",
        "train_dir = os.path.join(imdb_dir, 'train')\n",
        "\n",
        "labels = []\n",
        "texts = []\n",
        "\n",
        "# go thru both directories\n",
        "for label_type in ['neg', 'pos']:\n",
        "    dir_name = os.path.join(train_dir, label_type)\n",
        "\n",
        "    # go thru each review in the directory\n",
        "    for fname in os.listdir(dir_name):\n",
        "        nm, ext = os.path.splitext(fname)\n",
        "        # get the extension\n",
        "        if ext == '.txt':\n",
        "        # get the review\n",
        "            f = open(os.path.join(dir_name, fname))\n",
        "            texts.append(f.read())\n",
        "            f.close()\n",
        "            # build the labels\n",
        "            if label_type == 'neg':\n",
        "                labels.append(0)\n",
        "            else:\n",
        "                labels.append(1)"
      ],
      "execution_count": 0,
      "outputs": []
    },
    {
      "cell_type": "code",
      "metadata": {
        "id": "KpST0Py2hdjq",
        "colab_type": "code",
        "outputId": "3455c976-b4bc-4b59-a64b-cae624892bcb",
        "colab": {
          "base_uri": "https://localhost:8080/",
          "height": 34
        }
      },
      "source": [
        "print(len(labels))"
      ],
      "execution_count": 7,
      "outputs": [
        {
          "output_type": "stream",
          "text": [
            "25000\n"
          ],
          "name": "stdout"
        }
      ]
    },
    {
      "cell_type": "code",
      "metadata": {
        "id": "EIaDkOzch4fQ",
        "colab_type": "code",
        "outputId": "3d2bf75e-7045-43b7-c291-fa828a5e04e4",
        "colab": {
          "base_uri": "https://localhost:8080/",
          "height": 34
        }
      },
      "source": [
        "print(len(texts))"
      ],
      "execution_count": 8,
      "outputs": [
        {
          "output_type": "stream",
          "text": [
            "25000\n"
          ],
          "name": "stdout"
        }
      ]
    },
    {
      "cell_type": "markdown",
      "metadata": {
        "id": "5xx4bzJl50nd",
        "colab_type": "text"
      },
      "source": [
        "## Tokenize the Imdb Reviews"
      ]
    },
    {
      "cell_type": "markdown",
      "metadata": {
        "id": "FYwDTuuZtgXC",
        "colab_type": "text"
      },
      "source": [
        "For each review (group of words), convert them into word-indices (index to unique word)."
      ]
    },
    {
      "cell_type": "code",
      "metadata": {
        "id": "GZxmjLpZVG3n",
        "colab_type": "code",
        "outputId": "7480c10d-5bd3-4f4b-d232-d78e85059147",
        "colab": {
          "base_uri": "https://localhost:8080/",
          "height": 122
        }
      },
      "source": [
        "%tensorflow_version 1.0\n",
        "from keras.preprocessing.text import Tokenizer\n",
        "from keras.preprocessing.sequence import pad_sequences"
      ],
      "execution_count": 9,
      "outputs": [
        {
          "output_type": "stream",
          "text": [
            "`%tensorflow_version` only switches the major version: `1.x` or `2.x`.\n",
            "You set: `1.0`. This will be interpreted as: `1.x`.\n",
            "\n",
            "\n",
            "TensorFlow 1.x selected.\n"
          ],
          "name": "stdout"
        },
        {
          "output_type": "stream",
          "text": [
            "Using TensorFlow backend.\n"
          ],
          "name": "stderr"
        }
      ]
    },
    {
      "cell_type": "markdown",
      "metadata": {
        "id": "RJdD1ytytpr6",
        "colab_type": "text"
      },
      "source": [
        "### Configurations"
      ]
    },
    {
      "cell_type": "code",
      "metadata": {
        "id": "tPd3Ma3rtj_v",
        "colab_type": "code",
        "colab": {}
      },
      "source": [
        "maxlen = 100 # cuts off reviews after 100 words\n",
        "\n",
        "# let's try 1000 words\n",
        "#maxlen = 1000\n",
        "training_samples = 8000 # train only on 8000 samples\n",
        "validation_samples = 10000\n",
        "max_words = 10000"
      ],
      "execution_count": 0,
      "outputs": []
    },
    {
      "cell_type": "markdown",
      "metadata": {
        "id": "kQAj6MlrvH4h",
        "colab_type": "text"
      },
      "source": [
        "### Tokenize the reviews"
      ]
    },
    {
      "cell_type": "code",
      "metadata": {
        "id": "nnc1CLSs54Hi",
        "colab_type": "code",
        "outputId": "264c17b4-4ee4-410c-db58-5805fc52eeca",
        "colab": {
          "base_uri": "https://localhost:8080/",
          "height": 70
        }
      },
      "source": [
        "tokenizer = Tokenizer(num_words=max_words)\n",
        "tokenizer.fit_on_texts(texts)\n",
        "sequences = tokenizer.texts_to_sequences(texts)\n",
        "word_index = tokenizer.word_index\n",
        "print('Found %s unique tokens.' % len(word_index))\n",
        "\n",
        "data = pad_sequences(sequences, maxlen=maxlen)\n",
        "\n",
        "labels = np.asarray(labels)\n",
        "print('Shape of data tensor:', data.shape)\n",
        "print('Shape of label tensor:', labels.shape)"
      ],
      "execution_count": 11,
      "outputs": [
        {
          "output_type": "stream",
          "text": [
            "Found 88582 unique tokens.\n",
            "Shape of data tensor: (25000, 100)\n",
            "Shape of label tensor: (25000,)\n"
          ],
          "name": "stdout"
        }
      ]
    },
    {
      "cell_type": "markdown",
      "metadata": {
        "id": "cgUb2XK-vN-k",
        "colab_type": "text"
      },
      "source": [
        "### Split data into training and validation set."
      ]
    },
    {
      "cell_type": "code",
      "metadata": {
        "id": "aQCea-RYvEI1",
        "colab_type": "code",
        "outputId": "e0213a4f-9288-4f5c-fce5-11fbc66db56c",
        "colab": {
          "base_uri": "https://localhost:8080/",
          "height": 105
        }
      },
      "source": [
        "# Splits the data into a training set and a validation set, but first shuffles the data because you're starting with data in which samples are ordered, all negatives first, then all positives\n",
        "indices = np.arange(data.shape[0])\n",
        "np.random.shuffle(indices)\n",
        "data = data[indices]\n",
        "labels = labels[indices]\n",
        "\n",
        "x_train = data[:training_samples]\n",
        "y_train = labels[:training_samples]\n",
        "\n",
        "x_val = data[training_samples: training_samples + validation_samples]\n",
        "y_val = labels[training_samples: training_samples + validation_samples]\n",
        "\n",
        "print(len(x_train))\n",
        "print(len(y_train))\n",
        "print(y_train.shape)\n",
        "print(len(x_val))\n",
        "print(len(y_val))"
      ],
      "execution_count": 13,
      "outputs": [
        {
          "output_type": "stream",
          "text": [
            "8000\n",
            "8000\n",
            "(8000,)\n",
            "10000\n",
            "10000\n"
          ],
          "name": "stdout"
        }
      ]
    },
    {
      "cell_type": "markdown",
      "metadata": {
        "id": "ffKTcQc9KTo1",
        "colab_type": "text"
      },
      "source": [
        "## Download Glove Pre Trained Embeddings"
      ]
    },
    {
      "cell_type": "markdown",
      "metadata": {
        "id": "RIMIQ_yiyh_P",
        "colab_type": "text"
      },
      "source": [
        "* The GloVe (Global Vectors for Word Representation) is one form of word embeddings. It is built based on **word co-occurrence statistics**.\n",
        "\n",
        "* The **word co-occurrence** means, whether the two words co-occur (next to each other) in the corpse.\n",
        "\n",
        "* See wikipedia for more info.\n",
        "\n",
        "                                                                                                                                                                                                                                                                                                                                                                                                                                                                                                                                                                                                                                                                                                                                                                                                                                                                                                                                                                                                                                               "
      ]
    },
    {
      "cell_type": "code",
      "metadata": {
        "id": "I-tXaLc2KFKi",
        "colab_type": "code",
        "outputId": "e7b3f8ae-3f8a-4070-c32a-d5dc4932e876",
        "colab": {
          "base_uri": "https://localhost:8080/",
          "height": 369
        }
      },
      "source": [
        "!wget http://nlp.stanford.edu/data/glove.6B.zip"
      ],
      "execution_count": 14,
      "outputs": [
        {
          "output_type": "stream",
          "text": [
            "--2020-01-22 16:28:54--  http://nlp.stanford.edu/data/glove.6B.zip\n",
            "Resolving nlp.stanford.edu (nlp.stanford.edu)... 171.64.67.140\n",
            "Connecting to nlp.stanford.edu (nlp.stanford.edu)|171.64.67.140|:80... connected.\n",
            "HTTP request sent, awaiting response... 302 Found\n",
            "Location: https://nlp.stanford.edu/data/glove.6B.zip [following]\n",
            "--2020-01-22 16:28:54--  https://nlp.stanford.edu/data/glove.6B.zip\n",
            "Connecting to nlp.stanford.edu (nlp.stanford.edu)|171.64.67.140|:443... connected.\n",
            "HTTP request sent, awaiting response... 301 Moved Permanently\n",
            "Location: http://downloads.cs.stanford.edu/nlp/data/glove.6B.zip [following]\n",
            "--2020-01-22 16:28:54--  http://downloads.cs.stanford.edu/nlp/data/glove.6B.zip\n",
            "Resolving downloads.cs.stanford.edu (downloads.cs.stanford.edu)... 171.64.64.22\n",
            "Connecting to downloads.cs.stanford.edu (downloads.cs.stanford.edu)|171.64.64.22|:80... connected.\n",
            "HTTP request sent, awaiting response... 200 OK\n",
            "Length: 862182613 (822M) [application/zip]\n",
            "Saving to: ‘glove.6B.zip’\n",
            "\n",
            "glove.6B.zip        100%[===================>] 822.24M  2.03MB/s    in 6m 29s  \n",
            "\n",
            "2020-01-22 16:35:24 (2.11 MB/s) - ‘glove.6B.zip’ saved [862182613/862182613]\n",
            "\n"
          ],
          "name": "stdout"
        }
      ]
    },
    {
      "cell_type": "code",
      "metadata": {
        "id": "9nhaWGM7Ky70",
        "colab_type": "code",
        "outputId": "54e61f28-32f4-472d-862c-330b668310f8",
        "colab": {
          "base_uri": "https://localhost:8080/",
          "height": 105
        }
      },
      "source": [
        "!unzip glove*.zip"
      ],
      "execution_count": 15,
      "outputs": [
        {
          "output_type": "stream",
          "text": [
            "Archive:  glove.6B.zip\n",
            "  inflating: glove.6B.50d.txt        \n",
            "  inflating: glove.6B.100d.txt       \n",
            "  inflating: glove.6B.200d.txt       \n",
            "  inflating: glove.6B.300d.txt       \n"
          ],
          "name": "stdout"
        }
      ]
    },
    {
      "cell_type": "markdown",
      "metadata": {
        "id": "RMI9lCo_M84V",
        "colab_type": "text"
      },
      "source": [
        "## Read Pre Trained Glove Embeddings"
      ]
    },
    {
      "cell_type": "code",
      "metadata": {
        "id": "HK9sHq9VvhD1",
        "colab_type": "code",
        "colab": {}
      },
      "source": [
        "glove_dir = '/content'\n",
        "\n",
        "# use 400K words, 50 dimension pre trained glove embeddings\n",
        "embedding_dim = 50\n",
        "embedding_file_name = 'glove.6B.50d.txt'\n",
        "\n",
        "# use 400K words, 100 dimension pre trained glove embeddings\n",
        "#embedding_dim = 300\n",
        "#embedding_file_name = 'glove.6B.300d.txt'"
      ],
      "execution_count": 0,
      "outputs": []
    },
    {
      "cell_type": "code",
      "metadata": {
        "id": "hrrKrVnPMoOK",
        "colab_type": "code",
        "outputId": "b562116a-cfbe-4cec-c17b-ad6f20413e07",
        "colab": {
          "base_uri": "https://localhost:8080/",
          "height": 34
        }
      },
      "source": [
        "# build the dictionary to store word -> embedding info.\n",
        "embeddings_index = {}\n",
        "\n",
        "f = open(os.path.join(glove_dir, embedding_file_name ))\n",
        "\n",
        "# read the embedding entries \n",
        "for line in f:\n",
        "  values = line.split()\n",
        "  word = values[0]\n",
        "  coefs = np.asarray(values[1:], dtype='float32')\n",
        "  embeddings_index[word] = coefs\n",
        "f.close()\n",
        "\n",
        "print('Found %s word vectors.' %len(embeddings_index))"
      ],
      "execution_count": 56,
      "outputs": [
        {
          "output_type": "stream",
          "text": [
            "Found 400000 word vectors.\n"
          ],
          "name": "stdout"
        }
      ]
    },
    {
      "cell_type": "code",
      "metadata": {
        "id": "cSYNW8FsPpOj",
        "colab_type": "code",
        "outputId": "368cf9e7-17b1-4cc3-d667-b29011fc7f67",
        "colab": {
          "base_uri": "https://localhost:8080/",
          "height": 54
        }
      },
      "source": [
        "print(list(embeddings_index.keys())[0:20])"
      ],
      "execution_count": 57,
      "outputs": [
        {
          "output_type": "stream",
          "text": [
            "['the', ',', '.', 'of', 'to', 'and', 'in', 'a', '\"', \"'s\", 'for', '-', 'that', 'on', 'is', 'was', 'said', 'with', 'he', 'as']\n"
          ],
          "name": "stdout"
        }
      ]
    },
    {
      "cell_type": "code",
      "metadata": {
        "id": "fOVgayPONk4z",
        "colab_type": "code",
        "outputId": "4a2275bd-a98b-4b93-913a-b2823e005477",
        "colab": {
          "base_uri": "https://localhost:8080/",
          "height": 193
        }
      },
      "source": [
        "print(embeddings_index['the'])\n",
        "print(len(embeddings_index['the']))"
      ],
      "execution_count": 58,
      "outputs": [
        {
          "output_type": "stream",
          "text": [
            "[ 4.1800e-01  2.4968e-01 -4.1242e-01  1.2170e-01  3.4527e-01 -4.4457e-02\n",
            " -4.9688e-01 -1.7862e-01 -6.6023e-04 -6.5660e-01  2.7843e-01 -1.4767e-01\n",
            " -5.5677e-01  1.4658e-01 -9.5095e-03  1.1658e-02  1.0204e-01 -1.2792e-01\n",
            " -8.4430e-01 -1.2181e-01 -1.6801e-02 -3.3279e-01 -1.5520e-01 -2.3131e-01\n",
            " -1.9181e-01 -1.8823e+00 -7.6746e-01  9.9051e-02 -4.2125e-01 -1.9526e-01\n",
            "  4.0071e+00 -1.8594e-01 -5.2287e-01 -3.1681e-01  5.9213e-04  7.4449e-03\n",
            "  1.7778e-01 -1.5897e-01  1.2041e-02 -5.4223e-02 -2.9871e-01 -1.5749e-01\n",
            " -3.4758e-01 -4.5637e-02 -4.4251e-01  1.8785e-01  2.7849e-03 -1.8411e-01\n",
            " -1.1514e-01 -7.8581e-01]\n",
            "50\n"
          ],
          "name": "stdout"
        }
      ]
    },
    {
      "cell_type": "markdown",
      "metadata": {
        "id": "9PaPY5qtQHwc",
        "colab_type": "text"
      },
      "source": [
        "## Prepare Glove word-embeddings matrix"
      ]
    },
    {
      "cell_type": "markdown",
      "metadata": {
        "id": "2zCNYeGM_RRs",
        "colab_type": "text"
      },
      "source": [
        "For each word from the word_index (from tokenizer), get the Glove Embeddings for that word and build the embedding matrix.\n",
        "Note that we are considering only the limited number of words (max_words = 10000)"
      ]
    },
    {
      "cell_type": "code",
      "metadata": {
        "id": "87ewXUU0OBIj",
        "colab_type": "code",
        "outputId": "9717b8a2-8d82-4088-dba0-1420cd812474",
        "colab": {
          "base_uri": "https://localhost:8080/",
          "height": 34
        }
      },
      "source": [
        "# build embedding matrix for the words in our reviews\n",
        "embedding_matrix = np.zeros((max_words, embedding_dim))\n",
        "for word, i in word_index.items():\n",
        "    if i < max_words:\n",
        "        embedding_vector = embeddings_index.get(word)\n",
        "        if embedding_vector is not None:\n",
        "            #Words not found in the embedding index will be all zeros.\n",
        "            embedding_matrix[i] = embedding_vector\n",
        "\n",
        "print(embedding_matrix.shape)"
      ],
      "execution_count": 59,
      "outputs": [
        {
          "output_type": "stream",
          "text": [
            "(10000, 50)\n"
          ],
          "name": "stdout"
        }
      ]
    },
    {
      "cell_type": "markdown",
      "metadata": {
        "id": "NbfmY2RG7R0_",
        "colab_type": "text"
      },
      "source": [
        "## Define Model"
      ]
    },
    {
      "cell_type": "code",
      "metadata": {
        "id": "CVIA4UGV7S4d",
        "colab_type": "code",
        "outputId": "c7436738-bb2f-4ab3-b096-2416848b9834",
        "colab": {
          "base_uri": "https://localhost:8080/",
          "height": 404
        }
      },
      "source": [
        "from keras.models import Sequential\n",
        "from keras.layers import Embedding, Flatten, Dense, BatchNormalization, Activation, Dropout\n",
        "from keras.regularizers import l2\n",
        "from keras.constraints import UnitNorm\n",
        "\n",
        "model = Sequential()\n",
        "model.add(Embedding(max_words, embedding_dim, input_length=maxlen, embeddings_constraint=UnitNorm()))\n",
        "model.add(Flatten())\n",
        "model.add(Dense(128, kernel_regularizer=l2(0.01)))\n",
        "model.add(BatchNormalization())\n",
        "model.add(Activation('relu'))\n",
        "model.add(Dropout(0.25))\n",
        "model.add(Dense(1, activation='sigmoid', kernel_regularizer=l2(0.01)))\n",
        "model.summary()"
      ],
      "execution_count": 72,
      "outputs": [
        {
          "output_type": "stream",
          "text": [
            "Model: \"sequential_12\"\n",
            "_________________________________________________________________\n",
            "Layer (type)                 Output Shape              Param #   \n",
            "=================================================================\n",
            "embedding_12 (Embedding)     (None, 100, 50)           500000    \n",
            "_________________________________________________________________\n",
            "flatten_12 (Flatten)         (None, 5000)              0         \n",
            "_________________________________________________________________\n",
            "dense_23 (Dense)             (None, 128)               640128    \n",
            "_________________________________________________________________\n",
            "batch_normalization_12 (Batc (None, 128)               512       \n",
            "_________________________________________________________________\n",
            "activation_12 (Activation)   (None, 128)               0         \n",
            "_________________________________________________________________\n",
            "dropout_12 (Dropout)         (None, 128)               0         \n",
            "_________________________________________________________________\n",
            "dense_24 (Dense)             (None, 1)                 129       \n",
            "=================================================================\n",
            "Total params: 1,140,769\n",
            "Trainable params: 1,140,513\n",
            "Non-trainable params: 256\n",
            "_________________________________________________________________\n"
          ],
          "name": "stdout"
        }
      ]
    },
    {
      "cell_type": "markdown",
      "metadata": {
        "id": "8dzUUITo7YkF",
        "colab_type": "text"
      },
      "source": [
        "## Load the Glove Embeddings in the Model"
      ]
    },
    {
      "cell_type": "code",
      "metadata": {
        "id": "_ly6bSTt7czx",
        "colab_type": "code",
        "colab": {}
      },
      "source": [
        "model.layers[0].set_weights([embedding_matrix])\n",
        "#model.layers[0].trainable = False"
      ],
      "execution_count": 0,
      "outputs": []
    },
    {
      "cell_type": "markdown",
      "metadata": {
        "id": "1VYMplYq7lxr",
        "colab_type": "text"
      },
      "source": [
        "## Train the model"
      ]
    },
    {
      "cell_type": "code",
      "metadata": {
        "id": "DbiD0v9o7eiJ",
        "colab_type": "code",
        "outputId": "7ac82053-1eda-425e-ae3a-c9364934162e",
        "colab": {
          "base_uri": "https://localhost:8080/",
          "height": 406
        }
      },
      "source": [
        "model.compile(optimizer='adam',\n",
        "              loss='binary_crossentropy',\n",
        "              metrics=['acc'])\n",
        "\n",
        "history = model.fit(x_train, y_train,\n",
        "                    epochs=10,\n",
        "                    batch_size=128,\n",
        "                    validation_data=(x_val, y_val)\n",
        "                    )\n",
        "\n",
        "model.save_weights('pre_trained_glove_model.h5')\n"
      ],
      "execution_count": 74,
      "outputs": [
        {
          "output_type": "stream",
          "text": [
            "Train on 8000 samples, validate on 10000 samples\n",
            "Epoch 1/10\n",
            "8000/8000 [==============================] - 2s 269us/step - loss: 1.5716 - acc: 0.7448 - val_loss: 0.7858 - val_acc: 0.8350\n",
            "Epoch 2/10\n",
            "8000/8000 [==============================] - 0s 60us/step - loss: 0.3550 - acc: 0.9654 - val_loss: 0.5329 - val_acc: 0.8278\n",
            "Epoch 3/10\n",
            "8000/8000 [==============================] - 0s 62us/step - loss: 0.1495 - acc: 0.9976 - val_loss: 0.4777 - val_acc: 0.8259\n",
            "Epoch 4/10\n",
            "8000/8000 [==============================] - 1s 63us/step - loss: 0.1029 - acc: 0.9999 - val_loss: 0.4505 - val_acc: 0.8367\n",
            "Epoch 5/10\n",
            "8000/8000 [==============================] - 0s 60us/step - loss: 0.0841 - acc: 1.0000 - val_loss: 0.4441 - val_acc: 0.8377\n",
            "Epoch 6/10\n",
            "8000/8000 [==============================] - 0s 59us/step - loss: 0.0769 - acc: 1.0000 - val_loss: 0.4373 - val_acc: 0.8415\n",
            "Epoch 7/10\n",
            "8000/8000 [==============================] - 0s 62us/step - loss: 0.0709 - acc: 1.0000 - val_loss: 0.4440 - val_acc: 0.8380\n",
            "Epoch 8/10\n",
            "8000/8000 [==============================] - 0s 61us/step - loss: 0.0674 - acc: 1.0000 - val_loss: 0.4382 - val_acc: 0.8388\n",
            "Epoch 9/10\n",
            "8000/8000 [==============================] - 0s 59us/step - loss: 0.0639 - acc: 1.0000 - val_loss: 0.4372 - val_acc: 0.8371\n",
            "Epoch 10/10\n",
            "8000/8000 [==============================] - 0s 62us/step - loss: 0.0627 - acc: 1.0000 - val_loss: 0.4483 - val_acc: 0.8338\n"
          ],
          "name": "stdout"
        }
      ]
    },
    {
      "cell_type": "markdown",
      "metadata": {
        "id": "rXHjcTqW7oL6",
        "colab_type": "text"
      },
      "source": [
        "## Plot the result"
      ]
    },
    {
      "cell_type": "code",
      "metadata": {
        "id": "e_L-34737sa_",
        "colab_type": "code",
        "outputId": "87f6599c-ee14-4a14-9c2c-ba78d6385001",
        "colab": {
          "base_uri": "https://localhost:8080/",
          "height": 545
        }
      },
      "source": [
        "import matplotlib.pyplot as plt\n",
        "acc = history.history['acc']\n",
        "val_acc = history.history['val_acc']\n",
        "loss = history.history['loss']\n",
        "val_loss = history.history['val_loss']\n",
        "epochs = range(1, len(acc) + 1)\n",
        "plt.plot(epochs, acc, label='Training acc')\n",
        "plt.plot(epochs, val_acc, label='Validation acc')\n",
        "plt.title('Training and validation accuracy')\n",
        "plt.legend()\n",
        "plt.figure()\n",
        "plt.plot(epochs, loss, label='Training loss')\n",
        "plt.plot(epochs, val_loss, label='Validation loss')\n",
        "plt.title('Training and validation loss')\n",
        "plt.legend()\n",
        "plt.show()"
      ],
      "execution_count": 75,
      "outputs": [
        {
          "output_type": "display_data",
          "data": {
            "image/png": "[encoded data removed]",
            "text/plain": [
              "<Figure size 432x288 with 1 Axes>"
            ]
          },
          "metadata": {
            "tags": []
          }
        },
        {
          "output_type": "display_data",
          "data": {
            "image/png": "[encoded data removed]",
            "text/plain": [
              "<Figure size 432x288 with 1 Axes>"
            ]
          },
          "metadata": {
            "tags": []
          }
        }
      ]
    },
    {
      "cell_type": "markdown",
      "metadata": {
        "id": "f_0TrP86B1Ex",
        "colab_type": "text"
      },
      "source": [
        "## Evaluate Model Using Test Data"
      ]
    },
    {
      "cell_type": "markdown",
      "metadata": {
        "id": "xLZ-C9RIB54W",
        "colab_type": "text"
      },
      "source": [
        "### Tokenize the test data"
      ]
    },
    {
      "cell_type": "code",
      "metadata": {
        "id": "qrvpZ_qFB4nT",
        "colab_type": "code",
        "colab": {}
      },
      "source": [
        "test_dir = os.path.join(imdb_dir, 'test')\n",
        "labels_test = []\n",
        "texts_test = []\n",
        "for label_type in ['neg', 'pos']:\n",
        "    dir_name = os.path.join(test_dir, label_type)\n",
        "    for fname in sorted(os.listdir(dir_name)):\n",
        "        nm, ext = os.path.splitext(fname)\n",
        "        if ext == '.txt':\n",
        "            f = open(os.path.join(dir_name, fname))\n",
        "            texts_test.append(f.read())\n",
        "            f.close()\n",
        "\n",
        "            if label_type == 'neg':\n",
        "                labels_test.append(0)\n",
        "            else:\n",
        "                labels_test.append(1)"
      ],
      "execution_count": 0,
      "outputs": []
    },
    {
      "cell_type": "code",
      "metadata": {
        "id": "2kLjpABLCfNG",
        "colab_type": "code",
        "colab": {}
      },
      "source": [
        "sequences_test = tokenizer.texts_to_sequences(texts_test)\n",
        "x_test = pad_sequences(sequences_test, maxlen=maxlen)\n",
        "y_test = np.asarray(labels_test)"
      ],
      "execution_count": 0,
      "outputs": []
    },
    {
      "cell_type": "code",
      "metadata": {
        "id": "sBygsBeRCm4T",
        "colab_type": "code",
        "outputId": "454c03bf-67b0-46f2-adda-3203b73aa140",
        "colab": {
          "base_uri": "https://localhost:8080/",
          "height": 34
        }
      },
      "source": [
        "#model.load_weights('pre_trained_glove_model.h5')\n",
        "score = model.evaluate(x_test, y_test)"
      ],
      "execution_count": 78,
      "outputs": [
        {
          "output_type": "stream",
          "text": [
            "25000/25000 [==============================] - 1s 54us/step\n"
          ],
          "name": "stdout"
        }
      ]
    },
    {
      "cell_type": "code",
      "metadata": {
        "id": "9ILhicsuCx9s",
        "colab_type": "code",
        "outputId": "a774839c-cb01-49ff-fff2-3c31f24e500f",
        "colab": {
          "base_uri": "https://localhost:8080/",
          "height": 34
        }
      },
      "source": [
        "print('The accuracy of test data is: ', score[1])"
      ],
      "execution_count": 79,
      "outputs": [
        {
          "output_type": "stream",
          "text": [
            "The accuracy of test data is:  0.82984\n"
          ],
          "name": "stdout"
        }
      ]
    },
    {
      "cell_type": "code",
      "metadata": {
        "id": "4PUw0n0IC36Y",
        "colab_type": "code",
        "colab": {}
      },
      "source": [
        ""
      ],
      "execution_count": 0,
      "outputs": []
    }
  ]
}