{
  "nbformat": 4,
  "nbformat_minor": 0,
  "metadata": {
    "colab": {
      "name": "WordEmbeddings_v2.ipynb",
      "provenance": [],
      "collapsed_sections": [],
      "toc_visible": true
    },
    "kernelspec": {
      "name": "python3",
      "display_name": "Python 3"
    }
  },
  "cells": [
    {
      "cell_type": "markdown",
      "metadata": {
        "id": "UF6Ncv-cKM6F",
        "colab_type": "text"
      },
      "source": [
        "# Sentiment Prediction From Movie Reviews\n",
        "\n",
        "* Use GloVe Word Embeddings"
      ]
    },
    {
      "cell_type": "markdown",
      "metadata": {
        "id": "az62f2ZNqZJU",
        "colab_type": "text"
      },
      "source": [
        "The code is extracted from the book - [Deep Learning with Python - Francois Chollet](http://faculty.neu.edu.cn/yury/AAI/Textbook/Deep%20Learning%20with%20Python.pdf).\n",
        "\n",
        "Refer to Chapter 6 - Deep leraning for text and sequences.\n"
      ]
    },
    {
      "cell_type": "markdown",
      "metadata": {
        "id": "Yg01Yyg9NF-N",
        "colab_type": "text"
      },
      "source": [
        "## Imports"
      ]
    },
    {
      "cell_type": "code",
      "metadata": {
        "id": "-W266gFYNHph",
        "colab_type": "code",
        "colab": {}
      },
      "source": [
        "import numpy as np\n",
        "import os"
      ],
      "execution_count": 0,
      "outputs": []
    },
    {
      "cell_type": "markdown",
      "metadata": {
        "id": "lJTK7WNMRSKK",
        "colab_type": "text"
      },
      "source": [
        "## Download IMDB Raw Dataset\n",
        "\n",
        "There is Imdb dataset as part of Keras dataset as well.\n",
        "But, they are optimized and provide the reviews in terms of integers (word indices). There may be a way to obatin the real review (by fetching the real word from the word-index).\n",
        "\n",
        "Instead the Raw Imdb dataset is provided by the Keras author at the below mentioned url location. Let's make use of that."
      ]
    },
    {
      "cell_type": "code",
      "metadata": {
        "id": "ntcPqmZ9RWde",
        "colab_type": "code",
        "outputId": "39f2ad8c-f05e-48b5-fea7-0b7bb8762537",
        "colab": {
          "base_uri": "https://localhost:8080/",
          "height": 411
        }
      },
      "source": [
        "## keras provides the processed Imdb dataset as list of word-indexes.\n",
        "## We need to get the raw Imdb dataset\n",
        "!wget --no-check-certificate http://mng.bz/0tIo"
      ],
      "execution_count": 2,
      "outputs": [
        {
          "output_type": "stream",
          "text": [
            "--2020-01-22 06:37:55--  http://mng.bz/0tIo\n",
            "Resolving mng.bz (mng.bz)... 35.166.24.88\n",
            "Connecting to mng.bz (mng.bz)|35.166.24.88|:80... connected.\n",
            "HTTP request sent, awaiting response... 301 Moved Permanently\n",
            "Location: https://mng.bz/0tIo [following]\n",
            "--2020-01-22 06:38:00--  https://mng.bz/0tIo\n",
            "Connecting to mng.bz (mng.bz)|35.166.24.88|:443... connected.\n",
            "WARNING: cannot verify mng.bz's certificate, issued by ‘CN=Go Daddy Secure Certificate Authority - G2,OU=http://certs.godaddy.com/repository/,O=GoDaddy.com\\\\, Inc.,L=Scottsdale,ST=Arizona,C=US’:\n",
            "  Unable to locally verify the issuer's authority.\n",
            "HTTP request sent, awaiting response... 301 \n",
            "Location: http://s3.amazonaws.com/text-datasets/aclImdb.zip [following]\n",
            "--2020-01-22 06:38:00--  http://s3.amazonaws.com/text-datasets/aclImdb.zip\n",
            "Resolving s3.amazonaws.com (s3.amazonaws.com)... 52.216.25.54\n",
            "Connecting to s3.amazonaws.com (s3.amazonaws.com)|52.216.25.54|:80... connected.\n",
            "HTTP request sent, awaiting response... 200 OK\n",
            "Length: 60711700 (58M) [application/zip]\n",
            "Saving to: ‘0tIo’\n",
            "\n",
            "0tIo                100%[===================>]  57.90M  65.0MB/s    in 0.9s    \n",
            "\n",
            "2020-01-22 06:38:01 (65.0 MB/s) - ‘0tIo’ saved [60711700/60711700]\n",
            "\n"
          ],
          "name": "stdout"
        }
      ]
    },
    {
      "cell_type": "code",
      "metadata": {
        "id": "hH3Klm8DaEms",
        "colab_type": "code",
        "colab": {}
      },
      "source": [
        "!unzip -q 0tIo"
      ],
      "execution_count": 0,
      "outputs": []
    },
    {
      "cell_type": "code",
      "metadata": {
        "id": "UJHwL0v1bpNA",
        "colab_type": "code",
        "colab": {}
      },
      "source": [
        "#!ls -l aclImdb/train/neg"
      ],
      "execution_count": 0,
      "outputs": []
    },
    {
      "cell_type": "markdown",
      "metadata": {
        "id": "l_5h832uRPRz",
        "colab_type": "text"
      },
      "source": [
        "## Read Imdb Dataset"
      ]
    },
    {
      "cell_type": "markdown",
      "metadata": {
        "id": "zzhaGQPHs_Jt",
        "colab_type": "text"
      },
      "source": [
        "Read the dataset by going over both postive and negative review directories under **train** folder of the dataset."
      ]
    },
    {
      "cell_type": "code",
      "metadata": {
        "id": "1E80qgrVg8er",
        "colab_type": "code",
        "colab": {}
      },
      "source": [
        "imdb_dir = '/content/aclImdb'\n",
        "train_dir = os.path.join(imdb_dir, 'train')\n",
        "\n",
        "labels = []\n",
        "texts = []\n",
        "\n",
        "# go thru both directories\n",
        "for label_type in ['neg', 'pos']:\n",
        "  dir_name = os.path.join(train_dir, label_type)\n",
        "\n",
        "  # go thru each review in the directory\n",
        "  for fname in os.listdir(dir_name):\n",
        "    # get the extension\n",
        "    if fname[-4:] == '.txt':\n",
        "      # get the review\n",
        "      f = open(os.path.join(dir_name, fname))\n",
        "      texts.append(f.read())\n",
        "      f.close()\n",
        "      # build the labels\n",
        "      if label_type == 'neg':\n",
        "        labels.append(0)\n",
        "      else:\n",
        "        labels.append(1)"
      ],
      "execution_count": 0,
      "outputs": []
    },
    {
      "cell_type": "code",
      "metadata": {
        "id": "KpST0Py2hdjq",
        "colab_type": "code",
        "outputId": "54fd470c-788a-44f0-ad58-20f5614c3e8d",
        "colab": {
          "base_uri": "https://localhost:8080/",
          "height": 34
        }
      },
      "source": [
        "print(len(labels))"
      ],
      "execution_count": 6,
      "outputs": [
        {
          "output_type": "stream",
          "text": [
            "25000\n"
          ],
          "name": "stdout"
        }
      ]
    },
    {
      "cell_type": "code",
      "metadata": {
        "id": "EIaDkOzch4fQ",
        "colab_type": "code",
        "outputId": "86da4341-808f-4e38-9ba8-5537966ff48d",
        "colab": {
          "base_uri": "https://localhost:8080/",
          "height": 34
        }
      },
      "source": [
        "print(len(texts))"
      ],
      "execution_count": 7,
      "outputs": [
        {
          "output_type": "stream",
          "text": [
            "25000\n"
          ],
          "name": "stdout"
        }
      ]
    },
    {
      "cell_type": "markdown",
      "metadata": {
        "id": "5xx4bzJl50nd",
        "colab_type": "text"
      },
      "source": [
        "## Tokenize the Imdb Reviews"
      ]
    },
    {
      "cell_type": "markdown",
      "metadata": {
        "id": "FYwDTuuZtgXC",
        "colab_type": "text"
      },
      "source": [
        "For each review (group of words), convert them into word-indices (index to unique word)."
      ]
    },
    {
      "cell_type": "code",
      "metadata": {
        "id": "GZxmjLpZVG3n",
        "colab_type": "code",
        "colab": {
          "base_uri": "https://localhost:8080/",
          "height": 119
        },
        "outputId": "c5a3f309-465e-4895-c842-ca0de157c039"
      },
      "source": [
        "%tensorflow_version 1.0\n",
        "from keras.preprocessing.text import Tokenizer\n",
        "from keras.preprocessing.sequence import pad_sequences"
      ],
      "execution_count": 8,
      "outputs": [
        {
          "output_type": "stream",
          "text": [
            "`%tensorflow_version` only switches the major version: `1.x` or `2.x`.\n",
            "You set: `1.0`. This will be interpreted as: `1.x`.\n",
            "\n",
            "\n",
            "TensorFlow 1.x selected.\n"
          ],
          "name": "stdout"
        },
        {
          "output_type": "stream",
          "text": [
            "Using TensorFlow backend.\n"
          ],
          "name": "stderr"
        }
      ]
    },
    {
      "cell_type": "markdown",
      "metadata": {
        "id": "RJdD1ytytpr6",
        "colab_type": "text"
      },
      "source": [
        "### Configurations"
      ]
    },
    {
      "cell_type": "code",
      "metadata": {
        "id": "tPd3Ma3rtj_v",
        "colab_type": "code",
        "colab": {}
      },
      "source": [
        "maxlen = 100 # cuts off reviews after 100 words\n",
        "\n",
        "# let's try 1000 words\n",
        "#maxlen = 1000\n",
        "training_samples = 8000 # train only on 8000 samples\n",
        "validation_samples = 10000\n",
        "max_words = 10000"
      ],
      "execution_count": 0,
      "outputs": []
    },
    {
      "cell_type": "markdown",
      "metadata": {
        "id": "kQAj6MlrvH4h",
        "colab_type": "text"
      },
      "source": [
        "### Tokenize the reviews"
      ]
    },
    {
      "cell_type": "code",
      "metadata": {
        "id": "nnc1CLSs54Hi",
        "colab_type": "code",
        "outputId": "b3783040-c938-4df9-a186-c068374b7f56",
        "colab": {
          "base_uri": "https://localhost:8080/",
          "height": 68
        }
      },
      "source": [
        "tokenizer = Tokenizer(num_words=max_words)\n",
        "tokenizer.fit_on_texts(texts)\n",
        "sequences = tokenizer.texts_to_sequences(texts)\n",
        "word_index = tokenizer.word_index\n",
        "print('Found %s unique tokens.' % len(word_index))\n",
        "\n",
        "data = pad_sequences(sequences, maxlen=maxlen)\n",
        "\n",
        "labels = np.asarray(labels)\n",
        "print('Shape of data tensor:', data.shape)\n",
        "print('Shape of label tensor:', labels.shape)"
      ],
      "execution_count": 10,
      "outputs": [
        {
          "output_type": "stream",
          "text": [
            "Found 88582 unique tokens.\n",
            "Shape of data tensor: (25000, 100)\n",
            "Shape of label tensor: (25000,)\n"
          ],
          "name": "stdout"
        }
      ]
    },
    {
      "cell_type": "markdown",
      "metadata": {
        "id": "cgUb2XK-vN-k",
        "colab_type": "text"
      },
      "source": [
        "### Split data into training and validation set."
      ]
    },
    {
      "cell_type": "code",
      "metadata": {
        "id": "aQCea-RYvEI1",
        "colab_type": "code",
        "colab": {
          "base_uri": "https://localhost:8080/",
          "height": 102
        },
        "outputId": "069a9fb2-ae0b-488b-da21-11dc91790148"
      },
      "source": [
        "# Splits the data into a training set and a validation set, but first shuffles the data because you're starting with data in which samples are ordered, all negatives first, then all positives\n",
        "indices = np.arange(data.shape[0])\n",
        "np.random.shuffle(indices)\n",
        "data = data[indices]\n",
        "labels = labels[indices]\n",
        "\n",
        "x_train = data[:training_samples]\n",
        "y_train = labels[:training_samples]\n",
        "\n",
        "x_val = data[training_samples: training_samples + validation_samples]\n",
        "y_val = labels[training_samples: training_samples + validation_samples]\n",
        "\n",
        "print(len(x_train))\n",
        "print(len(y_train))\n",
        "print(y_train.shape)\n",
        "print(len(x_val))\n",
        "print(len(y_val))"
      ],
      "execution_count": 11,
      "outputs": [
        {
          "output_type": "stream",
          "text": [
            "8000\n",
            "8000\n",
            "(8000,)\n",
            "10000\n",
            "10000\n"
          ],
          "name": "stdout"
        }
      ]
    },
    {
      "cell_type": "markdown",
      "metadata": {
        "id": "ffKTcQc9KTo1",
        "colab_type": "text"
      },
      "source": [
        "## Download Glove Pre Trained Embeddings"
      ]
    },
    {
      "cell_type": "markdown",
      "metadata": {
        "id": "RIMIQ_yiyh_P",
        "colab_type": "text"
      },
      "source": [
        "* The GloVe (Global Vectors for Word Representation) is one form of word embeddings. It is built based on **word co-occurrence statistics**.\n",
        "\n",
        "* The **word co-occurrence** means, whether the two words co-occur (next to each other) in the corpse.\n",
        "\n",
        "* See wikipedia for more info.\n",
        "\n",
        "                                                                                                                                                                                                                                                                                                                                                                                                                                                                                                                                                                                                                                                                                                                                                                                                                                                                                                                                                                                                                                               "
      ]
    },
    {
      "cell_type": "code",
      "metadata": {
        "id": "I-tXaLc2KFKi",
        "colab_type": "code",
        "outputId": "3670dac7-7b7a-43a7-d890-a08cf7ec4fef",
        "colab": {
          "base_uri": "https://localhost:8080/",
          "height": 357
        }
      },
      "source": [
        "!wget http://nlp.stanford.edu/data/glove.6B.zip"
      ],
      "execution_count": 12,
      "outputs": [
        {
          "output_type": "stream",
          "text": [
            "--2020-01-22 06:38:21--  http://nlp.stanford.edu/data/glove.6B.zip\n",
            "Resolving nlp.stanford.edu (nlp.stanford.edu)... 171.64.67.140\n",
            "Connecting to nlp.stanford.edu (nlp.stanford.edu)|171.64.67.140|:80... connected.\n",
            "HTTP request sent, awaiting response... 302 Found\n",
            "Location: https://nlp.stanford.edu/data/glove.6B.zip [following]\n",
            "--2020-01-22 06:38:21--  https://nlp.stanford.edu/data/glove.6B.zip\n",
            "Connecting to nlp.stanford.edu (nlp.stanford.edu)|171.64.67.140|:443... connected.\n",
            "HTTP request sent, awaiting response... 301 Moved Permanently\n",
            "Location: http://downloads.cs.stanford.edu/nlp/data/glove.6B.zip [following]\n",
            "--2020-01-22 06:38:21--  http://downloads.cs.stanford.edu/nlp/data/glove.6B.zip\n",
            "Resolving downloads.cs.stanford.edu (downloads.cs.stanford.edu)... 171.64.64.22\n",
            "Connecting to downloads.cs.stanford.edu (downloads.cs.stanford.edu)|171.64.64.22|:80... connected.\n",
            "HTTP request sent, awaiting response... 200 OK\n",
            "Length: 862182613 (822M) [application/zip]\n",
            "Saving to: ‘glove.6B.zip’\n",
            "\n",
            "glove.6B.zip        100%[===================>] 822.24M  1.93MB/s    in 6m 27s  \n",
            "\n",
            "2020-01-22 06:44:49 (2.12 MB/s) - ‘glove.6B.zip’ saved [862182613/862182613]\n",
            "\n"
          ],
          "name": "stdout"
        }
      ]
    },
    {
      "cell_type": "code",
      "metadata": {
        "id": "9nhaWGM7Ky70",
        "colab_type": "code",
        "outputId": "653448d9-c214-42f6-fef3-2d7325c519a8",
        "colab": {
          "base_uri": "https://localhost:8080/",
          "height": 102
        }
      },
      "source": [
        "!unzip glove*.zip"
      ],
      "execution_count": 13,
      "outputs": [
        {
          "output_type": "stream",
          "text": [
            "Archive:  glove.6B.zip\n",
            "  inflating: glove.6B.50d.txt        \n",
            "  inflating: glove.6B.100d.txt       \n",
            "  inflating: glove.6B.200d.txt       \n",
            "  inflating: glove.6B.300d.txt       \n"
          ],
          "name": "stdout"
        }
      ]
    },
    {
      "cell_type": "markdown",
      "metadata": {
        "id": "RMI9lCo_M84V",
        "colab_type": "text"
      },
      "source": [
        "## Read Pre Trained Glove Embeddings"
      ]
    },
    {
      "cell_type": "code",
      "metadata": {
        "id": "HK9sHq9VvhD1",
        "colab_type": "code",
        "colab": {}
      },
      "source": [
        "glove_dir = '/content'\n",
        "\n",
        "# use 400K words, 50 dimension pre trained glove embeddings\n",
        "#embedding_dim = 50\n",
        "#embedding_file_name = 'glove.6B.50d.txt'\n",
        "\n",
        "# use 400K words, 100 dimension pre trained glove embeddings\n",
        "embedding_dim = 100\n",
        "embedding_file_name = 'glove.6B.100d.txt'"
      ],
      "execution_count": 0,
      "outputs": []
    },
    {
      "cell_type": "code",
      "metadata": {
        "id": "hrrKrVnPMoOK",
        "colab_type": "code",
        "outputId": "15854f8b-afc4-4c80-b89a-c6eac55ae51e",
        "colab": {
          "base_uri": "https://localhost:8080/",
          "height": 34
        }
      },
      "source": [
        "# build the dictionary to store word -> embedding info.\n",
        "embeddings_index = {}\n",
        "\n",
        "f = open(os.path.join(glove_dir, embedding_file_name ))\n",
        "\n",
        "# read the embedding entries \n",
        "for line in f:\n",
        "  values = line.split()\n",
        "  word = values[0]\n",
        "  coefs = np.asarray(values[1:], dtype='float32')\n",
        "  embeddings_index[word] = coefs\n",
        "f.close()\n",
        "\n",
        "print('Found %s word vectors.' %len(embeddings_index))"
      ],
      "execution_count": 15,
      "outputs": [
        {
          "output_type": "stream",
          "text": [
            "Found 400000 word vectors.\n"
          ],
          "name": "stdout"
        }
      ]
    },
    {
      "cell_type": "code",
      "metadata": {
        "id": "cSYNW8FsPpOj",
        "colab_type": "code",
        "outputId": "13f7c231-9ec8-4a35-d8ab-bb03b26113b3",
        "colab": {
          "base_uri": "https://localhost:8080/",
          "height": 54
        }
      },
      "source": [
        "print(list(embeddings_index.keys())[0:50])"
      ],
      "execution_count": 16,
      "outputs": [
        {
          "output_type": "stream",
          "text": [
            "['the', ',', '.', 'of', 'to', 'and', 'in', 'a', '\"', \"'s\", 'for', '-', 'that', 'on', 'is', 'was', 'said', 'with', 'he', 'as', 'it', 'by', 'at', '(', ')', 'from', 'his', \"''\", '``', 'an', 'be', 'has', 'are', 'have', 'but', 'were', 'not', 'this', 'who', 'they', 'had', 'i', 'which', 'will', 'their', ':', 'or', 'its', 'one', 'after']\n"
          ],
          "name": "stdout"
        }
      ]
    },
    {
      "cell_type": "code",
      "metadata": {
        "id": "fOVgayPONk4z",
        "colab_type": "code",
        "outputId": "cc9deef5-ef78-4495-bf5a-0e855b31f9cb",
        "colab": {
          "base_uri": "https://localhost:8080/",
          "height": 289
        }
      },
      "source": [
        "print(embeddings_index['the'])\n",
        "print(len(embeddings_index['the']))"
      ],
      "execution_count": 17,
      "outputs": [
        {
          "output_type": "stream",
          "text": [
            "[-0.038194 -0.24487   0.72812  -0.39961   0.083172  0.043953 -0.39141\n",
            "  0.3344   -0.57545   0.087459  0.28787  -0.06731   0.30906  -0.26384\n",
            " -0.13231  -0.20757   0.33395  -0.33848  -0.31743  -0.48336   0.1464\n",
            " -0.37304   0.34577   0.052041  0.44946  -0.46971   0.02628  -0.54155\n",
            " -0.15518  -0.14107  -0.039722  0.28277   0.14393   0.23464  -0.31021\n",
            "  0.086173  0.20397   0.52624   0.17164  -0.082378 -0.71787  -0.41531\n",
            "  0.20335  -0.12763   0.41367   0.55187   0.57908  -0.33477  -0.36559\n",
            " -0.54857  -0.062892  0.26584   0.30205   0.99775  -0.80481  -3.0243\n",
            "  0.01254  -0.36942   2.2167    0.72201  -0.24978   0.92136   0.034514\n",
            "  0.46745   1.1079   -0.19358  -0.074575  0.23353  -0.052062 -0.22044\n",
            "  0.057162 -0.15806  -0.30798  -0.41625   0.37972   0.15006  -0.53212\n",
            " -0.2055   -1.2526    0.071624  0.70565   0.49744  -0.42063   0.26148\n",
            " -1.538    -0.30223  -0.073438 -0.28312   0.37104  -0.25217   0.016215\n",
            " -0.017099 -0.38984   0.87424  -0.72569  -0.51058  -0.52028  -0.1459\n",
            "  0.8278    0.27062 ]\n",
            "100\n"
          ],
          "name": "stdout"
        }
      ]
    },
    {
      "cell_type": "markdown",
      "metadata": {
        "id": "9PaPY5qtQHwc",
        "colab_type": "text"
      },
      "source": [
        "## Prepare Glove word-embeddings matrix"
      ]
    },
    {
      "cell_type": "markdown",
      "metadata": {
        "id": "2zCNYeGM_RRs",
        "colab_type": "text"
      },
      "source": [
        "For each word from the word_index (from tokenizer), get the Glove Embeddings for that word and build the embedding matrix.\n",
        "Note that we are considering only the limited number of words (max_words = 10000)"
      ]
    },
    {
      "cell_type": "code",
      "metadata": {
        "id": "87ewXUU0OBIj",
        "colab_type": "code",
        "colab": {}
      },
      "source": [
        "# build embedding matrix for the words in our reviews\n",
        "embedding_matrix = np.zeros((max_words, embedding_dim))\n",
        "for word, i in word_index.items():\n",
        "    if i < max_words:\n",
        "        embedding_vector = embeddings_index.get(word)\n",
        "        if embedding_vector is not None:\n",
        "            #Words not found in the embedding index will be all zeros.\n",
        "            embedding_matrix[i] = embedding_vector"
      ],
      "execution_count": 0,
      "outputs": []
    },
    {
      "cell_type": "markdown",
      "metadata": {
        "id": "NbfmY2RG7R0_",
        "colab_type": "text"
      },
      "source": [
        "## Define Model"
      ]
    },
    {
      "cell_type": "code",
      "metadata": {
        "id": "CVIA4UGV7S4d",
        "colab_type": "code",
        "outputId": "e39ad673-b052-4c7d-9ee0-a78bc2e72c98",
        "colab": {
          "base_uri": "https://localhost:8080/",
          "height": 411
        }
      },
      "source": [
        "from keras.models import Sequential\n",
        "from keras.layers import Embedding, Flatten, Dense\n",
        "\n",
        "model = Sequential()\n",
        "model.add(Embedding(max_words, embedding_dim, input_length=maxlen))\n",
        "model.add(Flatten())\n",
        "model.add(Dense(32, activation='relu'))\n",
        "model.add(Dense(1, activation='sigmoid'))\n",
        "model.summary()"
      ],
      "execution_count": 19,
      "outputs": [
        {
          "output_type": "stream",
          "text": [
            "WARNING:tensorflow:From /usr/local/lib/python3.6/dist-packages/keras/backend/tensorflow_backend.py:66: The name tf.get_default_graph is deprecated. Please use tf.compat.v1.get_default_graph instead.\n",
            "\n",
            "WARNING:tensorflow:From /usr/local/lib/python3.6/dist-packages/keras/backend/tensorflow_backend.py:541: The name tf.placeholder is deprecated. Please use tf.compat.v1.placeholder instead.\n",
            "\n",
            "WARNING:tensorflow:From /usr/local/lib/python3.6/dist-packages/keras/backend/tensorflow_backend.py:4432: The name tf.random_uniform is deprecated. Please use tf.random.uniform instead.\n",
            "\n",
            "Model: \"sequential_1\"\n",
            "_________________________________________________________________\n",
            "Layer (type)                 Output Shape              Param #   \n",
            "=================================================================\n",
            "embedding_1 (Embedding)      (None, 100, 100)          1000000   \n",
            "_________________________________________________________________\n",
            "flatten_1 (Flatten)          (None, 10000)             0         \n",
            "_________________________________________________________________\n",
            "dense_1 (Dense)              (None, 32)                320032    \n",
            "_________________________________________________________________\n",
            "dense_2 (Dense)              (None, 1)                 33        \n",
            "=================================================================\n",
            "Total params: 1,320,065\n",
            "Trainable params: 1,320,065\n",
            "Non-trainable params: 0\n",
            "_________________________________________________________________\n"
          ],
          "name": "stdout"
        }
      ]
    },
    {
      "cell_type": "markdown",
      "metadata": {
        "id": "8dzUUITo7YkF",
        "colab_type": "text"
      },
      "source": [
        "## Load the Glove Embeddings in the Model"
      ]
    },
    {
      "cell_type": "code",
      "metadata": {
        "id": "_ly6bSTt7czx",
        "colab_type": "code",
        "outputId": "c886b13c-1cd5-4558-babb-c1dede63fb35",
        "colab": {
          "base_uri": "https://localhost:8080/",
          "height": 241
        }
      },
      "source": [
        "model.layers[0].set_weights([embedding_matrix])\n",
        "model.layers[0].trainable = False"
      ],
      "execution_count": 20,
      "outputs": [
        {
          "output_type": "stream",
          "text": [
            "WARNING:tensorflow:From /usr/local/lib/python3.6/dist-packages/keras/backend/tensorflow_backend.py:190: The name tf.get_default_session is deprecated. Please use tf.compat.v1.get_default_session instead.\n",
            "\n",
            "WARNING:tensorflow:From /usr/local/lib/python3.6/dist-packages/keras/backend/tensorflow_backend.py:197: The name tf.ConfigProto is deprecated. Please use tf.compat.v1.ConfigProto instead.\n",
            "\n",
            "WARNING:tensorflow:From /usr/local/lib/python3.6/dist-packages/keras/backend/tensorflow_backend.py:203: The name tf.Session is deprecated. Please use tf.compat.v1.Session instead.\n",
            "\n",
            "WARNING:tensorflow:From /usr/local/lib/python3.6/dist-packages/keras/backend/tensorflow_backend.py:207: The name tf.global_variables is deprecated. Please use tf.compat.v1.global_variables instead.\n",
            "\n",
            "WARNING:tensorflow:From /usr/local/lib/python3.6/dist-packages/keras/backend/tensorflow_backend.py:216: The name tf.is_variable_initialized is deprecated. Please use tf.compat.v1.is_variable_initialized instead.\n",
            "\n",
            "WARNING:tensorflow:From /usr/local/lib/python3.6/dist-packages/keras/backend/tensorflow_backend.py:223: The name tf.variables_initializer is deprecated. Please use tf.compat.v1.variables_initializer instead.\n",
            "\n"
          ],
          "name": "stdout"
        }
      ]
    },
    {
      "cell_type": "markdown",
      "metadata": {
        "id": "1VYMplYq7lxr",
        "colab_type": "text"
      },
      "source": [
        "## Train the model"
      ]
    },
    {
      "cell_type": "code",
      "metadata": {
        "id": "DbiD0v9o7eiJ",
        "colab_type": "code",
        "outputId": "4b433862-e69b-400b-f780-421dc5c826fd",
        "colab": {
          "base_uri": "https://localhost:8080/",
          "height": 581
        }
      },
      "source": [
        "model.compile(optimizer='rmsprop',\n",
        "              loss='binary_crossentropy',\n",
        "              metrics=['acc'])\n",
        "\n",
        "history = model.fit(x_train, y_train,\n",
        "                    epochs=10,\n",
        "                    batch_size=32,\n",
        "                    validation_data=(x_val, y_val)\n",
        "                    )\n",
        "\n",
        "model.save_weights('pre_trained_glove_model.h5')\n"
      ],
      "execution_count": 21,
      "outputs": [
        {
          "output_type": "stream",
          "text": [
            "WARNING:tensorflow:From /usr/local/lib/python3.6/dist-packages/keras/optimizers.py:793: The name tf.train.Optimizer is deprecated. Please use tf.compat.v1.train.Optimizer instead.\n",
            "\n",
            "WARNING:tensorflow:From /usr/local/lib/python3.6/dist-packages/keras/backend/tensorflow_backend.py:3657: The name tf.log is deprecated. Please use tf.math.log instead.\n",
            "\n",
            "WARNING:tensorflow:From /usr/local/lib/python3.6/dist-packages/tensorflow_core/python/ops/nn_impl.py:183: where (from tensorflow.python.ops.array_ops) is deprecated and will be removed in a future version.\n",
            "Instructions for updating:\n",
            "Use tf.where in 2.0, which has the same broadcast rule as np.where\n",
            "WARNING:tensorflow:From /usr/local/lib/python3.6/dist-packages/keras/backend/tensorflow_backend.py:1033: The name tf.assign_add is deprecated. Please use tf.compat.v1.assign_add instead.\n",
            "\n",
            "WARNING:tensorflow:From /usr/local/lib/python3.6/dist-packages/keras/backend/tensorflow_backend.py:1020: The name tf.assign is deprecated. Please use tf.compat.v1.assign instead.\n",
            "\n",
            "Train on 8000 samples, validate on 10000 samples\n",
            "Epoch 1/10\n",
            "8000/8000 [==============================] - 2s 309us/step - loss: 0.6742 - acc: 0.6006 - val_loss: 0.6198 - val_acc: 0.6745\n",
            "Epoch 2/10\n",
            "8000/8000 [==============================] - 2s 251us/step - loss: 0.5648 - acc: 0.7176 - val_loss: 0.5835 - val_acc: 0.6951\n",
            "Epoch 3/10\n",
            "8000/8000 [==============================] - 2s 256us/step - loss: 0.4846 - acc: 0.7720 - val_loss: 0.5690 - val_acc: 0.7067\n",
            "Epoch 4/10\n",
            "8000/8000 [==============================] - 2s 260us/step - loss: 0.4152 - acc: 0.8126 - val_loss: 0.6054 - val_acc: 0.6979\n",
            "Epoch 5/10\n",
            "8000/8000 [==============================] - 2s 250us/step - loss: 0.3642 - acc: 0.8401 - val_loss: 0.5952 - val_acc: 0.7084\n",
            "Epoch 6/10\n",
            "8000/8000 [==============================] - 2s 253us/step - loss: 0.3157 - acc: 0.8666 - val_loss: 0.7297 - val_acc: 0.6782\n",
            "Epoch 7/10\n",
            "8000/8000 [==============================] - 2s 256us/step - loss: 0.2665 - acc: 0.8905 - val_loss: 0.6821 - val_acc: 0.6999\n",
            "Epoch 8/10\n",
            "8000/8000 [==============================] - 2s 254us/step - loss: 0.2227 - acc: 0.9126 - val_loss: 0.7162 - val_acc: 0.7009\n",
            "Epoch 9/10\n",
            "8000/8000 [==============================] - 2s 273us/step - loss: 0.1792 - acc: 0.9290 - val_loss: 0.8402 - val_acc: 0.7022\n",
            "Epoch 10/10\n",
            "8000/8000 [==============================] - 2s 255us/step - loss: 0.1430 - acc: 0.9474 - val_loss: 1.0019 - val_acc: 0.6597\n"
          ],
          "name": "stdout"
        }
      ]
    },
    {
      "cell_type": "markdown",
      "metadata": {
        "id": "rXHjcTqW7oL6",
        "colab_type": "text"
      },
      "source": [
        "## Plot the result"
      ]
    },
    {
      "cell_type": "code",
      "metadata": {
        "id": "e_L-34737sa_",
        "colab_type": "code",
        "outputId": "478b34dd-a9e8-4a06-b73d-64a246c97a3b",
        "colab": {
          "base_uri": "https://localhost:8080/",
          "height": 545
        }
      },
      "source": [
        "import matplotlib.pyplot as plt\n",
        "acc = history.history['acc']\n",
        "val_acc = history.history['val_acc']\n",
        "loss = history.history['loss']\n",
        "val_loss = history.history['val_loss']\n",
        "epochs = range(1, len(acc) + 1)\n",
        "plt.plot(epochs, acc, 'bo', label='Training acc')\n",
        "plt.plot(epochs, val_acc, 'b', label='Validation acc')\n",
        "plt.title('Training and validation accuracy')\n",
        "plt.legend()\n",
        "plt.figure()\n",
        "plt.plot(epochs, loss, 'bo', label='Training loss')\n",
        "plt.plot(epochs, val_loss, 'b', label='Validation loss')\n",
        "plt.title('Training and validation loss')\n",
        "plt.legend()\n",
        "plt.show()"
      ],
      "execution_count": 22,
      "outputs": [
        {
          "output_type": "display_data",
          "data": {
            "image/png": "[encoded data removed]",
            "text/plain": [
              "<Figure size 432x288 with 1 Axes>"
            ]
          },
          "metadata": {
            "tags": []
          }
        },
        {
          "output_type": "display_data",
          "data": {
            "image/png": "[encoded data removed]",
            "text/plain": [
              "<Figure size 432x288 with 1 Axes>"
            ]
          },
          "metadata": {
            "tags": []
          }
        }
      ]
    },
    {
      "cell_type": "markdown",
      "metadata": {
        "id": "f_0TrP86B1Ex",
        "colab_type": "text"
      },
      "source": [
        "## Evaluate Model Using Test Data"
      ]
    },
    {
      "cell_type": "markdown",
      "metadata": {
        "id": "xLZ-C9RIB54W",
        "colab_type": "text"
      },
      "source": [
        "### Tokenize the test data"
      ]
    },
    {
      "cell_type": "code",
      "metadata": {
        "id": "qrvpZ_qFB4nT",
        "colab_type": "code",
        "colab": {}
      },
      "source": [
        "test_dir = os.path.join(imdb_dir, 'test')\n",
        "labels_test = []\n",
        "texts_test = []\n",
        "for label_type in ['neg', 'pos']:\n",
        "    dir_name = os.path.join(test_dir, label_type)\n",
        "    for fname in sorted(os.listdir(dir_name)):\n",
        "        if fname[-4:] == '.txt':\n",
        "            f = open(os.path.join(dir_name, fname))\n",
        "            texts_test.append(f.read())\n",
        "            f.close()\n",
        "\n",
        "            if label_type == 'neg':\n",
        "                labels_test.append(0)\n",
        "            else:\n",
        "                labels_test.append(1)"
      ],
      "execution_count": 0,
      "outputs": []
    },
    {
      "cell_type": "code",
      "metadata": {
        "id": "2kLjpABLCfNG",
        "colab_type": "code",
        "colab": {}
      },
      "source": [
        "sequences_test = tokenizer.texts_to_sequences(texts_test)\n",
        "x_test = pad_sequences(sequences_test, maxlen=maxlen)\n",
        "y_test = np.asarray(labels_test)"
      ],
      "execution_count": 0,
      "outputs": []
    },
    {
      "cell_type": "code",
      "metadata": {
        "id": "sBygsBeRCm4T",
        "colab_type": "code",
        "colab": {
          "base_uri": "https://localhost:8080/",
          "height": 34
        },
        "outputId": "1b369168-b217-4b6b-80fd-8c389f8edd03"
      },
      "source": [
        "#model.load_weights('pre_trained_glove_model.h5')\n",
        "score = model.evaluate(x_test, y_test)"
      ],
      "execution_count": 26,
      "outputs": [
        {
          "output_type": "stream",
          "text": [
            "25000/25000 [==============================] - 1s 47us/step\n"
          ],
          "name": "stdout"
        }
      ]
    },
    {
      "cell_type": "code",
      "metadata": {
        "id": "9ILhicsuCx9s",
        "colab_type": "code",
        "colab": {
          "base_uri": "https://localhost:8080/",
          "height": 34
        },
        "outputId": "bbaf1078-7288-4a3d-a780-7cb6b4d78f19"
      },
      "source": [
        "print('The accuracy of test data is: ', score[1])"
      ],
      "execution_count": 29,
      "outputs": [
        {
          "output_type": "stream",
          "text": [
            "The accuracy of test data is:  0.65784\n"
          ],
          "name": "stdout"
        }
      ]
    },
    {
      "cell_type": "code",
      "metadata": {
        "id": "4PUw0n0IC36Y",
        "colab_type": "code",
        "colab": {}
      },
      "source": [
        ""
      ],
      "execution_count": 0,
      "outputs": []
    }
  ]
}