{
  "nbformat": 4,
  "nbformat_minor": 0,
  "metadata": {
    "colab": {
      "name": "WordEmbeddings_v2.ipynb",
      "provenance": [],
      "collapsed_sections": [],
      "toc_visible": true,
      "include_colab_link": true
    },
    "kernelspec": {
      "name": "python3",
      "display_name": "Python 3"
    }
  },
  "cells": [
    {
      "cell_type": "markdown",
      "metadata": {
        "id": "view-in-github",
        "colab_type": "text"
      },
      "source": [
        "<a href=\"https://colab.research.google.com/github/sambitdash/EVA-2-Group/blob/master/Phase2/Session-1/SentimentUsingGlove.ipynb\" target=\"_parent\"><img src=\"https://colab.research.google.com/assets/colab-badge.svg\" alt=\"Open In Colab\"/></a>"
      ]
    },
    {
      "cell_type": "markdown",
      "metadata": {
        "id": "UF6Ncv-cKM6F",
        "colab_type": "text"
      },
      "source": [
        "# Sentiment Prediction From Movie Reviews\n",
        "\n",
        "* Use GloVe Word Embeddings"
      ]
    },
    {
      "cell_type": "markdown",
      "metadata": {
        "id": "az62f2ZNqZJU",
        "colab_type": "text"
      },
      "source": [
        "The code is extracted from the book - [Deep Learning with Python - Francois Chollet](http://faculty.neu.edu.cn/yury/AAI/Textbook/Deep%20Learning%20with%20Python.pdf).\n",
        "\n",
        "Refer to Chapter 6 - Deep leraning for text and sequences.\n"
      ]
    },
    {
      "cell_type": "markdown",
      "metadata": {
        "id": "Yg01Yyg9NF-N",
        "colab_type": "text"
      },
      "source": [
        "## Imports"
      ]
    },
    {
      "cell_type": "code",
      "metadata": {
        "id": "-W266gFYNHph",
        "colab_type": "code",
        "colab": {}
      },
      "source": [
        "import numpy as np\n",
        "import os"
      ],
      "execution_count": 0,
      "outputs": []
    },
    {
      "cell_type": "markdown",
      "metadata": {
        "id": "lJTK7WNMRSKK",
        "colab_type": "text"
      },
      "source": [
        "## Download IMDB Raw Dataset\n",
        "\n",
        "There is Imdb dataset as part of Keras dataset as well.\n",
        "But, they are optimized and provide the reviews in terms of integers (word indices). There may be a way to obatin the real review (by fetching the real word from the word-index).\n",
        "\n",
        "Instead the Raw Imdb dataset is provided by the Keras author at the below mentioned url location. Let's make use of that."
      ]
    },
    {
      "cell_type": "code",
      "metadata": {
        "id": "ntcPqmZ9RWde",
        "colab_type": "code",
        "outputId": "9ddd084c-ae52-4086-8e77-248d40c93a2d",
        "colab": {
          "base_uri": "https://localhost:8080/",
          "height": 424
        }
      },
      "source": [
        "## keras provides the processed Imdb dataset as list of word-indexes.\n",
        "## We need to get the raw Imdb dataset\n",
        "!wget --no-check-certificate http://mng.bz/0tIo"
      ],
      "execution_count": 3,
      "outputs": [
        {
          "output_type": "stream",
          "text": [
            "--2020-01-22 09:13:37--  http://mng.bz/0tIo\n",
            "Resolving mng.bz (mng.bz)... 35.166.24.88\n",
            "Connecting to mng.bz (mng.bz)|35.166.24.88|:80... connected.\n",
            "HTTP request sent, awaiting response... 301 Moved Permanently\n",
            "Location: https://mng.bz/0tIo [following]\n",
            "--2020-01-22 09:13:37--  https://mng.bz/0tIo\n",
            "Connecting to mng.bz (mng.bz)|35.166.24.88|:443... connected.\n",
            "WARNING: cannot verify mng.bz's certificate, issued by ‘CN=Go Daddy Secure Certificate Authority - G2,OU=http://certs.godaddy.com/repository/,O=GoDaddy.com\\\\, Inc.,L=Scottsdale,ST=Arizona,C=US’:\n",
            "  Unable to locally verify the issuer's authority.\n",
            "HTTP request sent, awaiting response... 301 \n",
            "Location: http://s3.amazonaws.com/text-datasets/aclImdb.zip [following]\n",
            "--2020-01-22 09:13:38--  http://s3.amazonaws.com/text-datasets/aclImdb.zip\n",
            "Resolving s3.amazonaws.com (s3.amazonaws.com)... 52.216.138.149\n",
            "Connecting to s3.amazonaws.com (s3.amazonaws.com)|52.216.138.149|:80... connected.\n",
            "HTTP request sent, awaiting response... 200 OK\n",
            "Length: 60711700 (58M) [application/zip]\n",
            "Saving to: ‘0tIo’\n",
            "\n",
            "0tIo                100%[===================>]  57.90M  14.3MB/s    in 5.1s    \n",
            "\n",
            "2020-01-22 09:13:43 (11.4 MB/s) - ‘0tIo’ saved [60711700/60711700]\n",
            "\n"
          ],
          "name": "stdout"
        }
      ]
    },
    {
      "cell_type": "code",
      "metadata": {
        "id": "hH3Klm8DaEms",
        "colab_type": "code",
        "colab": {}
      },
      "source": [
        "!unzip -q 0tIo"
      ],
      "execution_count": 0,
      "outputs": []
    },
    {
      "cell_type": "markdown",
      "metadata": {
        "id": "Z9w2IM1_ijI6",
        "colab_type": "text"
      },
      "source": [
        "## Check Dataset\n",
        "Count number of positive and negative examples (12500 each)\n",
        "\n"
      ]
    },
    {
      "cell_type": "code",
      "metadata": {
        "id": "UJHwL0v1bpNA",
        "colab_type": "code",
        "colab": {
          "base_uri": "https://localhost:8080/",
          "height": 34
        },
        "outputId": "fac35be7-0387-45a8-bc03-04a8dd026f7e"
      },
      "source": [
        "!ls -1 aclImdb/train/neg | wc -l"
      ],
      "execution_count": 13,
      "outputs": [
        {
          "output_type": "stream",
          "text": [
            "12500\n"
          ],
          "name": "stdout"
        }
      ]
    },
    {
      "cell_type": "code",
      "metadata": {
        "id": "srylwQKxiWOw",
        "colab_type": "code",
        "colab": {
          "base_uri": "https://localhost:8080/",
          "height": 34
        },
        "outputId": "9c188e41-e834-45d6-d68b-24a5bcfa8a57"
      },
      "source": [
        "!ls -1 aclImdb/train/pos | wc -l"
      ],
      "execution_count": 14,
      "outputs": [
        {
          "output_type": "stream",
          "text": [
            "12500\n"
          ],
          "name": "stdout"
        }
      ]
    },
    {
      "cell_type": "markdown",
      "metadata": {
        "id": "l_5h832uRPRz",
        "colab_type": "text"
      },
      "source": [
        "## Read Imdb Dataset"
      ]
    },
    {
      "cell_type": "markdown",
      "metadata": {
        "id": "zzhaGQPHs_Jt",
        "colab_type": "text"
      },
      "source": [
        "Read the dataset by going over both postive and negative review directories under **train** folder of the dataset."
      ]
    },
    {
      "cell_type": "code",
      "metadata": {
        "id": "1E80qgrVg8er",
        "colab_type": "code",
        "colab": {}
      },
      "source": [
        "imdb_dir = '/content/aclImdb'\n",
        "train_dir = os.path.join(imdb_dir, 'train')\n",
        "\n",
        "labels = []\n",
        "texts = []\n",
        "\n",
        "# go thru both directories\n",
        "for label_type in ['neg', 'pos']:\n",
        "    dir_name = os.path.join(train_dir, label_type)\n",
        "\n",
        "    # go thru each review in the directory\n",
        "    for fname in os.listdir(dir_name):\n",
        "        nm, ext = os.path.splitext(fname)\n",
        "        # get the extension\n",
        "        if ext == '.txt':\n",
        "        # get the review\n",
        "            f = open(os.path.join(dir_name, fname))\n",
        "            texts.append(f.read())\n",
        "            f.close()\n",
        "            # build the labels\n",
        "            if label_type == 'neg':\n",
        "                labels.append(0)\n",
        "            else:\n",
        "                labels.append(1)"
      ],
      "execution_count": 0,
      "outputs": []
    },
    {
      "cell_type": "code",
      "metadata": {
        "id": "KpST0Py2hdjq",
        "colab_type": "code",
        "outputId": "9bc7bb87-254f-498f-bb2d-e14cfc577c51",
        "colab": {
          "base_uri": "https://localhost:8080/",
          "height": 34
        }
      },
      "source": [
        "print(len(labels))"
      ],
      "execution_count": 16,
      "outputs": [
        {
          "output_type": "stream",
          "text": [
            "25000\n"
          ],
          "name": "stdout"
        }
      ]
    },
    {
      "cell_type": "code",
      "metadata": {
        "id": "EIaDkOzch4fQ",
        "colab_type": "code",
        "outputId": "0c8418a3-d959-41b3-c049-3df402243294",
        "colab": {
          "base_uri": "https://localhost:8080/",
          "height": 34
        }
      },
      "source": [
        "print(len(texts))"
      ],
      "execution_count": 17,
      "outputs": [
        {
          "output_type": "stream",
          "text": [
            "25000\n"
          ],
          "name": "stdout"
        }
      ]
    },
    {
      "cell_type": "markdown",
      "metadata": {
        "id": "5xx4bzJl50nd",
        "colab_type": "text"
      },
      "source": [
        "## Tokenize the Imdb Reviews"
      ]
    },
    {
      "cell_type": "markdown",
      "metadata": {
        "id": "FYwDTuuZtgXC",
        "colab_type": "text"
      },
      "source": [
        "For each review (group of words), convert them into word-indices (index to unique word)."
      ]
    },
    {
      "cell_type": "code",
      "metadata": {
        "id": "GZxmjLpZVG3n",
        "colab_type": "code",
        "outputId": "609b359c-ae24-403f-fba5-e793c1c35a53",
        "colab": {
          "base_uri": "https://localhost:8080/",
          "height": 122
        }
      },
      "source": [
        "%tensorflow_version 1.0\n",
        "from keras.preprocessing.text import Tokenizer\n",
        "from keras.preprocessing.sequence import pad_sequences"
      ],
      "execution_count": 18,
      "outputs": [
        {
          "output_type": "stream",
          "text": [
            "`%tensorflow_version` only switches the major version: `1.x` or `2.x`.\n",
            "You set: `1.0`. This will be interpreted as: `1.x`.\n",
            "\n",
            "\n",
            "TensorFlow 1.x selected.\n"
          ],
          "name": "stdout"
        },
        {
          "output_type": "stream",
          "text": [
            "Using TensorFlow backend.\n"
          ],
          "name": "stderr"
        }
      ]
    },
    {
      "cell_type": "markdown",
      "metadata": {
        "id": "RJdD1ytytpr6",
        "colab_type": "text"
      },
      "source": [
        "### Configurations"
      ]
    },
    {
      "cell_type": "code",
      "metadata": {
        "id": "tPd3Ma3rtj_v",
        "colab_type": "code",
        "colab": {}
      },
      "source": [
        "maxlen = 100 # cuts off reviews after 100 words\n",
        "\n",
        "# let's try 1000 words\n",
        "#maxlen = 1000\n",
        "training_samples = 8000 # train only on 8000 samples\n",
        "validation_samples = 10000\n",
        "max_words = 10000"
      ],
      "execution_count": 0,
      "outputs": []
    },
    {
      "cell_type": "markdown",
      "metadata": {
        "id": "kQAj6MlrvH4h",
        "colab_type": "text"
      },
      "source": [
        "### Tokenize the reviews"
      ]
    },
    {
      "cell_type": "code",
      "metadata": {
        "id": "nnc1CLSs54Hi",
        "colab_type": "code",
        "outputId": "1f3fbb26-e9b0-487c-f947-02e5a68062be",
        "colab": {
          "base_uri": "https://localhost:8080/",
          "height": 70
        }
      },
      "source": [
        "tokenizer = Tokenizer(num_words=max_words)\n",
        "tokenizer.fit_on_texts(texts)\n",
        "sequences = tokenizer.texts_to_sequences(texts)\n",
        "word_index = tokenizer.word_index\n",
        "print('Found %s unique tokens.' % len(word_index))\n",
        "\n",
        "data = pad_sequences(sequences, maxlen=maxlen)\n",
        "\n",
        "labels = np.asarray(labels)\n",
        "print('Shape of data tensor:', data.shape)\n",
        "print('Shape of label tensor:', labels.shape)"
      ],
      "execution_count": 20,
      "outputs": [
        {
          "output_type": "stream",
          "text": [
            "Found 88582 unique tokens.\n",
            "Shape of data tensor: (25000, 100)\n",
            "Shape of label tensor: (25000,)\n"
          ],
          "name": "stdout"
        }
      ]
    },
    {
      "cell_type": "markdown",
      "metadata": {
        "id": "cgUb2XK-vN-k",
        "colab_type": "text"
      },
      "source": [
        "### Split data into training and validation set."
      ]
    },
    {
      "cell_type": "code",
      "metadata": {
        "id": "aQCea-RYvEI1",
        "colab_type": "code",
        "outputId": "7b18e117-aeca-4632-e461-fb7dc983bb6c",
        "colab": {
          "base_uri": "https://localhost:8080/",
          "height": 105
        }
      },
      "source": [
        "# Splits the data into a training set and a validation set, but first shuffles the data because you're starting with data in which samples are ordered, all negatives first, then all positives\n",
        "indices = np.arange(data.shape[0])\n",
        "np.random.shuffle(indices)\n",
        "data = data[indices]\n",
        "labels = labels[indices]\n",
        "\n",
        "x_train = data[:training_samples]\n",
        "y_train = labels[:training_samples]\n",
        "\n",
        "x_val = data[training_samples: training_samples + validation_samples]\n",
        "y_val = labels[training_samples: training_samples + validation_samples]\n",
        "\n",
        "print(len(x_train))\n",
        "print(len(y_train))\n",
        "print(y_train.shape)\n",
        "print(len(x_val))\n",
        "print(len(y_val))"
      ],
      "execution_count": 21,
      "outputs": [
        {
          "output_type": "stream",
          "text": [
            "8000\n",
            "8000\n",
            "(8000,)\n",
            "10000\n",
            "10000\n"
          ],
          "name": "stdout"
        }
      ]
    },
    {
      "cell_type": "markdown",
      "metadata": {
        "id": "ffKTcQc9KTo1",
        "colab_type": "text"
      },
      "source": [
        "## Download Glove Pre Trained Embeddings"
      ]
    },
    {
      "cell_type": "markdown",
      "metadata": {
        "id": "RIMIQ_yiyh_P",
        "colab_type": "text"
      },
      "source": [
        "* The GloVe (Global Vectors for Word Representation) is one form of word embeddings. It is built based on **word co-occurrence statistics**.\n",
        "\n",
        "* The **word co-occurrence** means, whether the two words co-occur (next to each other) in the corpse.\n",
        "\n",
        "* See wikipedia for more info.\n",
        "\n",
        "                                                                                                                                                                                                                                                                                                                                                                                                                                                                                                                                                                                                                                                                                                                                                                                                                                                                                                                                                                                                                                               "
      ]
    },
    {
      "cell_type": "code",
      "metadata": {
        "id": "I-tXaLc2KFKi",
        "colab_type": "code",
        "outputId": "b9f5c1fc-b46e-48fb-9cec-a6ca985b5e9a",
        "colab": {
          "base_uri": "https://localhost:8080/",
          "height": 369
        }
      },
      "source": [
        "!wget http://nlp.stanford.edu/data/glove.6B.zip"
      ],
      "execution_count": 22,
      "outputs": [
        {
          "output_type": "stream",
          "text": [
            "--2020-01-22 09:29:02--  http://nlp.stanford.edu/data/glove.6B.zip\n",
            "Resolving nlp.stanford.edu (nlp.stanford.edu)... 171.64.67.140\n",
            "Connecting to nlp.stanford.edu (nlp.stanford.edu)|171.64.67.140|:80... connected.\n",
            "HTTP request sent, awaiting response... 302 Found\n",
            "Location: https://nlp.stanford.edu/data/glove.6B.zip [following]\n",
            "--2020-01-22 09:29:02--  https://nlp.stanford.edu/data/glove.6B.zip\n",
            "Connecting to nlp.stanford.edu (nlp.stanford.edu)|171.64.67.140|:443... connected.\n",
            "HTTP request sent, awaiting response... 301 Moved Permanently\n",
            "Location: http://downloads.cs.stanford.edu/nlp/data/glove.6B.zip [following]\n",
            "--2020-01-22 09:29:03--  http://downloads.cs.stanford.edu/nlp/data/glove.6B.zip\n",
            "Resolving downloads.cs.stanford.edu (downloads.cs.stanford.edu)... 171.64.64.22\n",
            "Connecting to downloads.cs.stanford.edu (downloads.cs.stanford.edu)|171.64.64.22|:80... connected.\n",
            "HTTP request sent, awaiting response... 200 OK\n",
            "Length: 862182613 (822M) [application/zip]\n",
            "Saving to: ‘glove.6B.zip’\n",
            "\n",
            "glove.6B.zip        100%[===================>] 822.24M  2.19MB/s    in 6m 30s  \n",
            "\n",
            "2020-01-22 09:35:33 (2.11 MB/s) - ‘glove.6B.zip’ saved [862182613/862182613]\n",
            "\n"
          ],
          "name": "stdout"
        }
      ]
    },
    {
      "cell_type": "code",
      "metadata": {
        "id": "9nhaWGM7Ky70",
        "colab_type": "code",
        "outputId": "2c79ea30-fa6d-4f30-dc27-9a977bee1d01",
        "colab": {
          "base_uri": "https://localhost:8080/",
          "height": 122
        }
      },
      "source": [
        "!unzip glove*.zip"
      ],
      "execution_count": 130,
      "outputs": [
        {
          "output_type": "stream",
          "text": [
            "Archive:  glove.6B.zip\n",
            "replace glove.6B.50d.txt? [y]es, [n]o, [A]ll, [N]one, [r]ename: A\n",
            "  inflating: glove.6B.50d.txt        \n",
            "  inflating: glove.6B.100d.txt       \n",
            "  inflating: glove.6B.200d.txt       \n",
            "  inflating: glove.6B.300d.txt       \n"
          ],
          "name": "stdout"
        }
      ]
    },
    {
      "cell_type": "markdown",
      "metadata": {
        "id": "RMI9lCo_M84V",
        "colab_type": "text"
      },
      "source": [
        "## Read Pre Trained Glove Embeddings"
      ]
    },
    {
      "cell_type": "code",
      "metadata": {
        "id": "HK9sHq9VvhD1",
        "colab_type": "code",
        "colab": {}
      },
      "source": [
        "glove_dir = '/content'\n",
        "\n",
        "# use 400K words, 50 dimension pre trained glove embeddings\n",
        "#embedding_dim = 50\n",
        "#embedding_file_name = 'glove.6B.50d.txt'\n",
        "\n",
        "# use 400K words, 100 dimension pre trained glove embeddings\n",
        "embedding_dim = 300\n",
        "embedding_file_name = 'glove.6B.300d.txt'"
      ],
      "execution_count": 0,
      "outputs": []
    },
    {
      "cell_type": "code",
      "metadata": {
        "id": "hrrKrVnPMoOK",
        "colab_type": "code",
        "outputId": "237447ad-d7c0-4599-d1ce-568caaaaf867",
        "colab": {
          "base_uri": "https://localhost:8080/",
          "height": 34
        }
      },
      "source": [
        "# build the dictionary to store word -> embedding info.\n",
        "embeddings_index = {}\n",
        "\n",
        "f = open(os.path.join(glove_dir, embedding_file_name ))\n",
        "\n",
        "# read the embedding entries \n",
        "for line in f:\n",
        "  values = line.split()\n",
        "  word = values[0]\n",
        "  coefs = np.asarray(values[1:], dtype='float32')\n",
        "  embeddings_index[word] = coefs\n",
        "f.close()\n",
        "\n",
        "print('Found %s word vectors.' %len(embeddings_index))"
      ],
      "execution_count": 132,
      "outputs": [
        {
          "output_type": "stream",
          "text": [
            "Found 400000 word vectors.\n"
          ],
          "name": "stdout"
        }
      ]
    },
    {
      "cell_type": "code",
      "metadata": {
        "id": "cSYNW8FsPpOj",
        "colab_type": "code",
        "outputId": "f3a22d84-1540-4a36-e57f-800585bee453",
        "colab": {
          "base_uri": "https://localhost:8080/",
          "height": 54
        }
      },
      "source": [
        "print(list(embeddings_index.keys())[0:20])"
      ],
      "execution_count": 133,
      "outputs": [
        {
          "output_type": "stream",
          "text": [
            "['the', ',', '.', 'of', 'to', 'and', 'in', 'a', '\"', \"'s\", 'for', '-', 'that', 'on', 'is', 'was', 'said', 'with', 'he', 'as']\n"
          ],
          "name": "stdout"
        }
      ]
    },
    {
      "cell_type": "code",
      "metadata": {
        "id": "fOVgayPONk4z",
        "colab_type": "code",
        "outputId": "49c25eb4-2230-43e1-dd06-957f5781168a",
        "colab": {
          "base_uri": "https://localhost:8080/",
          "height": 914
        }
      },
      "source": [
        "print(embeddings_index['the'])\n",
        "print(len(embeddings_index['the']))"
      ],
      "execution_count": 134,
      "outputs": [
        {
          "output_type": "stream",
          "text": [
            "[ 4.6560e-02  2.1318e-01 -7.4364e-03 -4.5854e-01 -3.5639e-02  2.3643e-01\n",
            " -2.8836e-01  2.1521e-01 -1.3486e-01 -1.6413e+00 -2.6091e-01  3.2434e-02\n",
            "  5.6621e-02 -4.3296e-02 -2.1672e-02  2.2476e-01 -7.5129e-02 -6.7018e-02\n",
            " -1.4247e-01  3.8825e-02 -1.8951e-01  2.9977e-01  3.9305e-01  1.7887e-01\n",
            " -1.7343e-01 -2.1178e-01  2.3617e-01 -6.3681e-02 -4.2318e-01 -1.1661e-01\n",
            "  9.3754e-02  1.7296e-01 -3.3073e-01  4.9112e-01 -6.8995e-01 -9.2462e-02\n",
            "  2.4742e-01 -1.7991e-01  9.7908e-02  8.3118e-02  1.5299e-01 -2.7276e-01\n",
            " -3.8934e-02  5.4453e-01  5.3737e-01  2.9105e-01 -7.3514e-03  4.7880e-02\n",
            " -4.0760e-01 -2.6759e-02  1.7919e-01  1.0977e-02 -1.0963e-01 -2.6395e-01\n",
            "  7.3990e-02  2.6236e-01 -1.5080e-01  3.4623e-01  2.5758e-01  1.1971e-01\n",
            " -3.7135e-02 -7.1593e-02  4.3898e-01 -4.0764e-02  1.6425e-02 -4.4640e-01\n",
            "  1.7197e-01  4.6246e-02  5.8639e-02  4.1499e-02  5.3948e-01  5.2495e-01\n",
            "  1.1361e-01 -4.8315e-02 -3.6385e-01  1.8704e-01  9.2761e-02 -1.1129e-01\n",
            " -4.2085e-01  1.3992e-01 -3.9338e-01 -6.7945e-02  1.2188e-01  1.6707e-01\n",
            "  7.5169e-02 -1.5529e-02 -1.9499e-01  1.9638e-01  5.3194e-02  2.5170e-01\n",
            " -3.4845e-01 -1.0638e-01 -3.4692e-01 -1.9024e-01 -2.0040e-01  1.2154e-01\n",
            " -2.9208e-01  2.3353e-02 -1.1618e-01 -3.5768e-01  6.2304e-02  3.5884e-01\n",
            "  2.9060e-02  7.3005e-03  4.9482e-03 -1.5048e-01 -1.2313e-01  1.9337e-01\n",
            "  1.2173e-01  4.4503e-01  2.5147e-01  1.0781e-01 -1.7716e-01  3.8691e-02\n",
            "  8.1530e-02  1.4667e-01  6.3666e-02  6.1332e-02 -7.5569e-02 -3.7724e-01\n",
            "  1.5850e-02 -3.0342e-01  2.8374e-01 -4.2013e-02 -4.0715e-02 -1.5269e-01\n",
            "  7.4980e-02  1.5577e-01  1.0433e-01  3.1393e-01  1.9309e-01  1.9429e-01\n",
            "  1.5185e-01 -1.0192e-01 -1.8785e-02  2.0791e-01  1.3366e-01  1.9038e-01\n",
            " -2.5558e-01  3.0400e-01 -1.8960e-02  2.0147e-01 -4.2110e-01 -7.5156e-03\n",
            " -2.7977e-01 -1.9314e-01  4.6204e-02  1.9971e-01 -3.0207e-01  2.5735e-01\n",
            "  6.8107e-01 -1.9409e-01  2.3984e-01  2.2493e-01  6.5224e-01 -1.3561e-01\n",
            " -1.7383e-01 -4.8209e-02 -1.1860e-01  2.1588e-03 -1.9525e-02  1.1948e-01\n",
            "  1.9346e-01 -4.0820e-01 -8.2966e-02  1.6626e-01 -1.0601e-01  3.5861e-01\n",
            "  1.6922e-01  7.2590e-02 -2.4803e-01 -1.0024e-01 -5.2491e-01 -1.7745e-01\n",
            " -3.6647e-01  2.6180e-01 -1.2077e-02  8.3190e-02 -2.1528e-01  4.1045e-01\n",
            "  2.9136e-01  3.0869e-01  7.8864e-02  3.2207e-01 -4.1023e-02 -1.0970e-01\n",
            " -9.2041e-02 -1.2339e-01 -1.6416e-01  3.5382e-01 -8.2774e-02  3.3171e-01\n",
            " -2.4738e-01 -4.8928e-02  1.5746e-01  1.8988e-01 -2.6642e-02  6.3315e-02\n",
            " -1.0673e-02  3.4089e-01  1.4106e+00  1.3417e-01  2.8191e-01 -2.5940e-01\n",
            "  5.5267e-02 -5.2425e-02 -2.5789e-01  1.9127e-02 -2.2084e-02  3.2113e-01\n",
            "  6.8818e-02  5.1207e-01  1.6478e-01 -2.0194e-01  2.9232e-01  9.8575e-02\n",
            "  1.3145e-02 -1.0652e-01  1.3510e-01 -4.5332e-02  2.0697e-01 -4.8425e-01\n",
            " -4.4706e-01  3.3305e-03  2.9264e-03 -1.0975e-01 -2.3325e-01  2.2442e-01\n",
            " -1.0503e-01  1.2339e-01  1.0978e-01  4.8994e-02 -2.5157e-01  4.0319e-01\n",
            "  3.5318e-01  1.8651e-01 -2.3622e-02 -1.2734e-01  1.1475e-01  2.7359e-01\n",
            " -2.1866e-01  1.5794e-02  8.1754e-01 -2.3792e-02 -8.5469e-01 -1.6203e-01\n",
            "  1.8076e-01  2.8014e-02 -1.4340e-01  1.3139e-03 -9.1735e-02 -8.9704e-02\n",
            "  1.1105e-01 -1.6703e-01  6.8377e-02 -8.7388e-02 -3.9789e-02  1.4184e-02\n",
            "  2.1187e-01  2.8579e-01 -2.8797e-01 -5.8996e-02 -3.2436e-02 -4.7009e-03\n",
            " -1.7052e-01 -3.4741e-02 -1.1489e-01  7.5093e-02  9.9526e-02  4.8183e-02\n",
            " -7.3775e-02 -4.1817e-01  4.1268e-03  4.4414e-01 -1.6062e-01  1.4294e-01\n",
            " -2.2628e+00 -2.7347e-02  8.1311e-01  7.7417e-01 -2.5639e-01 -1.1576e-01\n",
            " -1.1982e-01 -2.1363e-01  2.8429e-02  2.7261e-01  3.1026e-02  9.6782e-02\n",
            "  6.7769e-03  1.4082e-01 -1.3064e-02 -2.9686e-01 -7.9913e-02  1.9500e-01\n",
            "  3.1549e-02  2.8506e-01 -8.7461e-02  9.0611e-03 -2.0989e-01  5.3913e-02]\n",
            "300\n"
          ],
          "name": "stdout"
        }
      ]
    },
    {
      "cell_type": "markdown",
      "metadata": {
        "id": "9PaPY5qtQHwc",
        "colab_type": "text"
      },
      "source": [
        "## Prepare Glove word-embeddings matrix"
      ]
    },
    {
      "cell_type": "markdown",
      "metadata": {
        "id": "2zCNYeGM_RRs",
        "colab_type": "text"
      },
      "source": [
        "For each word from the word_index (from tokenizer), get the Glove Embeddings for that word and build the embedding matrix.\n",
        "Note that we are considering only the limited number of words (max_words = 10000)"
      ]
    },
    {
      "cell_type": "code",
      "metadata": {
        "id": "87ewXUU0OBIj",
        "colab_type": "code",
        "colab": {
          "base_uri": "https://localhost:8080/",
          "height": 34
        },
        "outputId": "10b54654-e7a7-40f3-b498-d36ca669a880"
      },
      "source": [
        "# build embedding matrix for the words in our reviews\n",
        "embedding_matrix = np.zeros((max_words, embedding_dim))\n",
        "for word, i in word_index.items():\n",
        "    if i < max_words:\n",
        "        embedding_vector = embeddings_index.get(word)\n",
        "        if embedding_vector is not None:\n",
        "            #Words not found in the embedding index will be all zeros.\n",
        "            embedding_matrix[i] = embedding_vector\n",
        "\n",
        "print(embedding_matrix.shape)"
      ],
      "execution_count": 135,
      "outputs": [
        {
          "output_type": "stream",
          "text": [
            "(10000, 300)\n"
          ],
          "name": "stdout"
        }
      ]
    },
    {
      "cell_type": "markdown",
      "metadata": {
        "id": "NbfmY2RG7R0_",
        "colab_type": "text"
      },
      "source": [
        "## Define Model"
      ]
    },
    {
      "cell_type": "code",
      "metadata": {
        "id": "CVIA4UGV7S4d",
        "colab_type": "code",
        "outputId": "9582d2eb-10fb-4020-9843-ae5552e97e79",
        "colab": {
          "base_uri": "https://localhost:8080/",
          "height": 404
        }
      },
      "source": [
        "from keras.models import Sequential\n",
        "from keras.layers import Embedding, Flatten, Dense, BatchNormalization, Activation, Dropout\n",
        "from keras.regularizers import l2\n",
        "\n",
        "model = Sequential()\n",
        "model.add(Embedding(max_words, embedding_dim, input_length=maxlen))\n",
        "model.add(Flatten())\n",
        "model.add(Dense(128, kernel_regularizer=l2(0.001)))\n",
        "model.add(BatchNormalization())\n",
        "model.add(Activation('relu'))\n",
        "model.add(Dropout(0.25))\n",
        "model.add(Dense(1, activation='sigmoid', kernel_regularizer=l2(0.001)))\n",
        "model.summary()"
      ],
      "execution_count": 136,
      "outputs": [
        {
          "output_type": "stream",
          "text": [
            "Model: \"sequential_25\"\n",
            "_________________________________________________________________\n",
            "Layer (type)                 Output Shape              Param #   \n",
            "=================================================================\n",
            "embedding_25 (Embedding)     (None, 100, 300)          3000000   \n",
            "_________________________________________________________________\n",
            "flatten_25 (Flatten)         (None, 30000)             0         \n",
            "_________________________________________________________________\n",
            "dense_46 (Dense)             (None, 128)               3840128   \n",
            "_________________________________________________________________\n",
            "batch_normalization_22 (Batc (None, 128)               512       \n",
            "_________________________________________________________________\n",
            "activation_22 (Activation)   (None, 128)               0         \n",
            "_________________________________________________________________\n",
            "dropout_16 (Dropout)         (None, 128)               0         \n",
            "_________________________________________________________________\n",
            "dense_47 (Dense)             (None, 1)                 129       \n",
            "=================================================================\n",
            "Total params: 6,840,769\n",
            "Trainable params: 6,840,513\n",
            "Non-trainable params: 256\n",
            "_________________________________________________________________\n"
          ],
          "name": "stdout"
        }
      ]
    },
    {
      "cell_type": "markdown",
      "metadata": {
        "id": "8dzUUITo7YkF",
        "colab_type": "text"
      },
      "source": [
        "## Load the Glove Embeddings in the Model"
      ]
    },
    {
      "cell_type": "code",
      "metadata": {
        "id": "_ly6bSTt7czx",
        "colab_type": "code",
        "colab": {}
      },
      "source": [
        "model.layers[0].set_weights([embedding_matrix])\n",
        "model.layers[0].trainable = False"
      ],
      "execution_count": 0,
      "outputs": []
    },
    {
      "cell_type": "markdown",
      "metadata": {
        "id": "1VYMplYq7lxr",
        "colab_type": "text"
      },
      "source": [
        "## Train the model"
      ]
    },
    {
      "cell_type": "code",
      "metadata": {
        "id": "DbiD0v9o7eiJ",
        "colab_type": "code",
        "outputId": "744e2064-a50d-4da9-f49c-0203e4d7a057",
        "colab": {
          "base_uri": "https://localhost:8080/",
          "height": 758
        }
      },
      "source": [
        "model.compile(optimizer='adam',\n",
        "              loss='binary_crossentropy',\n",
        "              metrics=['acc'])\n",
        "\n",
        "history = model.fit(x_train, y_train,\n",
        "                    epochs=20,\n",
        "                    batch_size=128,\n",
        "                    validation_data=(x_val, y_val)\n",
        "                    )\n",
        "\n",
        "model.save_weights('pre_trained_glove_model.h5')\n"
      ],
      "execution_count": 138,
      "outputs": [
        {
          "output_type": "stream",
          "text": [
            "Train on 8000 samples, validate on 10000 samples\n",
            "Epoch 1/20\n",
            "8000/8000 [==============================] - 11s 1ms/step - loss: 1.0448 - acc: 0.6587 - val_loss: 1.3135 - val_acc: 0.5729\n",
            "Epoch 2/20\n",
            "8000/8000 [==============================] - 9s 1ms/step - loss: 0.5326 - acc: 0.9477 - val_loss: 1.0048 - val_acc: 0.7083\n",
            "Epoch 3/20\n",
            "8000/8000 [==============================] - 9s 1ms/step - loss: 0.3489 - acc: 0.9868 - val_loss: 0.9426 - val_acc: 0.7143\n",
            "Epoch 4/20\n",
            "8000/8000 [==============================] - 9s 1ms/step - loss: 0.2593 - acc: 0.9978 - val_loss: 1.0487 - val_acc: 0.6928\n",
            "Epoch 5/20\n",
            "8000/8000 [==============================] - 9s 1ms/step - loss: 0.1967 - acc: 0.9989 - val_loss: 0.8956 - val_acc: 0.7145\n",
            "Epoch 6/20\n",
            "8000/8000 [==============================] - 9s 1ms/step - loss: 0.1700 - acc: 0.9964 - val_loss: 1.0590 - val_acc: 0.6830\n",
            "Epoch 7/20\n",
            "8000/8000 [==============================] - 9s 1ms/step - loss: 0.3329 - acc: 0.9493 - val_loss: 1.6010 - val_acc: 0.6423\n",
            "Epoch 8/20\n",
            "8000/8000 [==============================] - 9s 1ms/step - loss: 0.5505 - acc: 0.9195 - val_loss: 1.2669 - val_acc: 0.6979\n",
            "Epoch 9/20\n",
            "8000/8000 [==============================] - 9s 1ms/step - loss: 0.4111 - acc: 0.9808 - val_loss: 1.2446 - val_acc: 0.7056\n",
            "Epoch 10/20\n",
            "8000/8000 [==============================] - 9s 1ms/step - loss: 0.2899 - acc: 0.9954 - val_loss: 1.2588 - val_acc: 0.6845\n",
            "Epoch 11/20\n",
            "8000/8000 [==============================] - 9s 1ms/step - loss: 0.2156 - acc: 0.9978 - val_loss: 0.9749 - val_acc: 0.7143\n",
            "Epoch 12/20\n",
            "8000/8000 [==============================] - 9s 1ms/step - loss: 0.2136 - acc: 0.9878 - val_loss: 1.2203 - val_acc: 0.6881\n",
            "Epoch 13/20\n",
            "8000/8000 [==============================] - 9s 1ms/step - loss: 0.4250 - acc: 0.9374 - val_loss: 1.6721 - val_acc: 0.6670\n",
            "Epoch 14/20\n",
            "8000/8000 [==============================] - 9s 1ms/step - loss: 0.5634 - acc: 0.9387 - val_loss: 1.3642 - val_acc: 0.7107\n",
            "Epoch 15/20\n",
            "8000/8000 [==============================] - 9s 1ms/step - loss: 0.4327 - acc: 0.9859 - val_loss: 1.2508 - val_acc: 0.7076\n",
            "Epoch 16/20\n",
            "8000/8000 [==============================] - 9s 1ms/step - loss: 0.3087 - acc: 0.9941 - val_loss: 1.1187 - val_acc: 0.7132\n",
            "Epoch 17/20\n",
            "8000/8000 [==============================] - 9s 1ms/step - loss: 0.2321 - acc: 0.9972 - val_loss: 1.0392 - val_acc: 0.7064\n",
            "Epoch 18/20\n",
            "8000/8000 [==============================] - 9s 1ms/step - loss: 0.2295 - acc: 0.9855 - val_loss: 1.4358 - val_acc: 0.6671\n",
            "Epoch 19/20\n",
            "8000/8000 [==============================] - 9s 1ms/step - loss: 0.4695 - acc: 0.9330 - val_loss: 1.4873 - val_acc: 0.6871\n",
            "Epoch 20/20\n",
            "8000/8000 [==============================] - 9s 1ms/step - loss: 0.5712 - acc: 0.9469 - val_loss: 1.3400 - val_acc: 0.6961\n"
          ],
          "name": "stdout"
        }
      ]
    },
    {
      "cell_type": "markdown",
      "metadata": {
        "id": "rXHjcTqW7oL6",
        "colab_type": "text"
      },
      "source": [
        "## Plot the result"
      ]
    },
    {
      "cell_type": "code",
      "metadata": {
        "id": "e_L-34737sa_",
        "colab_type": "code",
        "outputId": "f75c8c7f-ba4d-4e52-9f57-c247e432e078",
        "colab": {
          "base_uri": "https://localhost:8080/",
          "height": 545
        }
      },
      "source": [
        "import matplotlib.pyplot as plt\n",
        "acc = history.history['acc']\n",
        "val_acc = history.history['val_acc']\n",
        "loss = history.history['loss']\n",
        "val_loss = history.history['val_loss']\n",
        "epochs = range(1, len(acc) + 1)\n",
        "plt.plot(epochs, acc, 'bo', label='Training acc')\n",
        "plt.plot(epochs, val_acc, 'b', label='Validation acc')\n",
        "plt.title('Training and validation accuracy')\n",
        "plt.legend()\n",
        "plt.figure()\n",
        "plt.plot(epochs, loss, 'bo', label='Training loss')\n",
        "plt.plot(epochs, val_loss, 'b', label='Validation loss')\n",
        "plt.title('Training and validation loss')\n",
        "plt.legend()\n",
        "plt.show()"
      ],
      "execution_count": 139,
      "outputs": [
        {
          "output_type": "display_data",
          "data": {
            "image/png": "[encoded data removed]",
            "text/plain": [
              "<Figure size 432x288 with 1 Axes>"
            ]
          },
          "metadata": {
            "tags": []
          }
        },
        {
          "output_type": "display_data",
          "data": {
            "image/png": "[encoded data removed]",
            "text/plain": [
              "<Figure size 432x288 with 1 Axes>"
            ]
          },
          "metadata": {
            "tags": []
          }
        }
      ]
    },
    {
      "cell_type": "markdown",
      "metadata": {
        "id": "f_0TrP86B1Ex",
        "colab_type": "text"
      },
      "source": [
        "## Evaluate Model Using Test Data"
      ]
    },
    {
      "cell_type": "markdown",
      "metadata": {
        "id": "xLZ-C9RIB54W",
        "colab_type": "text"
      },
      "source": [
        "### Tokenize the test data"
      ]
    },
    {
      "cell_type": "code",
      "metadata": {
        "id": "qrvpZ_qFB4nT",
        "colab_type": "code",
        "colab": {}
      },
      "source": [
        "test_dir = os.path.join(imdb_dir, 'test')\n",
        "labels_test = []\n",
        "texts_test = []\n",
        "for label_type in ['neg', 'pos']:\n",
        "    dir_name = os.path.join(test_dir, label_type)\n",
        "    for fname in sorted(os.listdir(dir_name)):\n",
        "        nm, ext = os.path.splitext(fname)\n",
        "        if ext == '.txt':\n",
        "            f = open(os.path.join(dir_name, fname))\n",
        "            texts_test.append(f.read())\n",
        "            f.close()\n",
        "\n",
        "            if label_type == 'neg':\n",
        "                labels_test.append(0)\n",
        "            else:\n",
        "                labels_test.append(1)"
      ],
      "execution_count": 0,
      "outputs": []
    },
    {
      "cell_type": "code",
      "metadata": {
        "id": "2kLjpABLCfNG",
        "colab_type": "code",
        "colab": {}
      },
      "source": [
        "sequences_test = tokenizer.texts_to_sequences(texts_test)\n",
        "x_test = pad_sequences(sequences_test, maxlen=maxlen)\n",
        "y_test = np.asarray(labels_test)"
      ],
      "execution_count": 0,
      "outputs": []
    },
    {
      "cell_type": "code",
      "metadata": {
        "id": "sBygsBeRCm4T",
        "colab_type": "code",
        "outputId": "97172974-2fff-4bb3-867d-55b9dbb1c244",
        "colab": {
          "base_uri": "https://localhost:8080/",
          "height": 34
        }
      },
      "source": [
        "#model.load_weights('pre_trained_glove_model.h5')\n",
        "score = model.evaluate(x_test, y_test)"
      ],
      "execution_count": 143,
      "outputs": [
        {
          "output_type": "stream",
          "text": [
            "25000/25000 [==============================] - 9s 348us/step\n"
          ],
          "name": "stdout"
        }
      ]
    },
    {
      "cell_type": "code",
      "metadata": {
        "id": "9ILhicsuCx9s",
        "colab_type": "code",
        "outputId": "a45f2907-f22a-4ef0-c261-7cdda0b9f4fd",
        "colab": {
          "base_uri": "https://localhost:8080/",
          "height": 34
        }
      },
      "source": [
        "print('The accuracy of test data is: ', score[1])"
      ],
      "execution_count": 144,
      "outputs": [
        {
          "output_type": "stream",
          "text": [
            "The accuracy of test data is:  0.69456\n"
          ],
          "name": "stdout"
        }
      ]
    },
    {
      "cell_type": "code",
      "metadata": {
        "id": "4PUw0n0IC36Y",
        "colab_type": "code",
        "colab": {}
      },
      "source": [
        ""
      ],
      "execution_count": 0,
      "outputs": []
    }
  ]
}