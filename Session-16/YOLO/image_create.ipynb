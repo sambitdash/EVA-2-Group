{
 "cells": [
  {
   "cell_type": "code",
   "execution_count": 25,
   "metadata": {},
   "outputs": [],
   "source": [
    "files = !find Images -name *.jpg"
   ]
  },
  {
   "cell_type": "code",
   "execution_count": 26,
   "metadata": {},
   "outputs": [],
   "source": [
    "import random\n",
    "files = random.sample(files, 1000)"
   ]
  },
  {
   "cell_type": "code",
   "execution_count": 27,
   "metadata": {},
   "outputs": [
    {
     "data": {
      "text/plain": [
       "1000"
      ]
     },
     "execution_count": 27,
     "metadata": {},
     "output_type": "execute_result"
    }
   ],
   "source": [
    "len(files)"
   ]
  },
  {
   "cell_type": "code",
   "execution_count": 37,
   "metadata": {},
   "outputs": [
    {
     "data": {
      "text/plain": [
       "'Annotation/n02094258-Norwich_terrier/n02094258_1340'"
      ]
     },
     "execution_count": 37,
     "metadata": {},
     "output_type": "execute_result"
    }
   ],
   "source": [
    "import os\n",
    "i = 0\n",
    "v = files[i].split(os.sep)\n",
    "v[0] = 'Annotation'\n",
    "v[-1] = os.path.splitext(v[-1])[0]\n",
    "os.path.join(*v)"
   ]
  },
  {
   "cell_type": "code",
   "execution_count": 88,
   "metadata": {},
   "outputs": [],
   "source": [
    "from shutil import copyfile\n",
    "import os\n",
    "from os.path import join, isfile\n",
    "import xml.etree.ElementTree as et\n",
    "\n",
    "for i in range(len(files)):\n",
    "    dst = os.path.join('samples', '{:03d}.jpg'.format(i))\n",
    "    src = files[i]\n",
    "    \n",
    "    v = files[i].split(os.sep)\n",
    "    v[0] = 'Annotation'\n",
    "    v[-1] = os.path.splitext(v[-1])[0]\n",
    "    meta = os.path.join(*v)\n",
    "    \n",
    "    assert isfile(src)\n",
    "    assert isfile(meta)\n",
    "    \n",
    "    copyfile(src, dst)\n",
    "    \n",
    "    doc = et.parse(meta)\n",
    "    \n",
    "    dst = os.path.join('samples', '{:03d}.txt'.format(i))\n",
    "    \n",
    "    f = open(dst, \"w\")\n",
    "    \n",
    "    w = int(doc.find(\"size/width\").text)\n",
    "    h = int(doc.find(\"size/height\").text)\n",
    "\n",
    "    objects = doc.findall(\"object\")\n",
    "\n",
    "    for o in objects:\n",
    "        xmin = int(o.find(\"bndbox/xmin\").text)\n",
    "        ymin = int(o.find(\"bndbox/ymin\").text)\n",
    "        xmax = int(o.find(\"bndbox/xmax\").text)\n",
    "        ymax = int(o.find(\"bndbox/ymax\").text)\n",
    "    \n",
    "        xc = (xmin + xmax)/(2*w)\n",
    "        yc = (ymin + ymax)/(2*h)\n",
    "    \n",
    "        wr = (xmax - xmin)/w\n",
    "        hr = (ymax - ymin)/h\n",
    "    \n",
    "        print(0, xc, yc, wr, hr, file=f)\n",
    "        \n",
    "    f.close()\n",
    "    "
   ]
  }
 ],
 "metadata": {
  "kernelspec": {
   "display_name": "Python 3",
   "language": "python",
   "name": "python3"
  },
  "language_info": {
   "codemirror_mode": {
    "name": "ipython",
    "version": 3
   },
   "file_extension": ".py",
   "mimetype": "text/x-python",
   "name": "python",
   "nbconvert_exporter": "python",
   "pygments_lexer": "ipython3",
   "version": "3.7.3"
  }
 },
 "nbformat": 4,
 "nbformat_minor": 4
}
