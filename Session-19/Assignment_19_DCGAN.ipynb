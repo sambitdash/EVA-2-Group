{
 "cells": [
  {
   "cell_type": "markdown",
   "metadata": {
    "colab_type": "text",
    "id": "ldroDUYJIx3p"
   },
   "source": [
    "# DCGAN For Car Images"
   ]
  },
  {
   "cell_type": "code",
   "execution_count": 1,
   "metadata": {
    "colab": {
     "base_uri": "https://localhost:8080/",
     "height": 306
    },
    "colab_type": "code",
    "id": "zlupGNsFJGhq",
    "outputId": "6d1ea742-b76d-4a58-ade8-0c176aad8319"
   },
   "outputs": [
    {
     "name": "stdout",
     "output_type": "stream",
     "text": [
      "Thu Dec 12 13:50:44 2019       \n",
      "+-----------------------------------------------------------------------------+\n",
      "| NVIDIA-SMI 440.36       Driver Version: 418.67       CUDA Version: 10.1     |\n",
      "|-------------------------------+----------------------+----------------------+\n",
      "| GPU  Name        Persistence-M| Bus-Id        Disp.A | Volatile Uncorr. ECC |\n",
      "| Fan  Temp  Perf  Pwr:Usage/Cap|         Memory-Usage | GPU-Util  Compute M. |\n",
      "|===============================+======================+======================|\n",
      "|   0  Tesla K80           Off  | 00000000:00:04.0 Off |                    0 |\n",
      "| N/A   49C    P8    30W / 149W |      0MiB / 11441MiB |      0%      Default |\n",
      "+-------------------------------+----------------------+----------------------+\n",
      "                                                                               \n",
      "+-----------------------------------------------------------------------------+\n",
      "| Processes:                                                       GPU Memory |\n",
      "|  GPU       PID   Type   Process name                             Usage      |\n",
      "|=============================================================================|\n",
      "|  No running processes found                                                 |\n",
      "+-----------------------------------------------------------------------------+\n"
     ]
    }
   ],
   "source": [
    "!nvidia-smi"
   ]
  },
  {
   "cell_type": "markdown",
   "metadata": {
    "colab_type": "text",
    "id": "oNnJSJoFI3-I"
   },
   "source": [
    "## Import Data"
   ]
  },
  {
   "cell_type": "code",
   "execution_count": 2,
   "metadata": {
    "colab": {
     "base_uri": "https://localhost:8080/",
     "height": 238
    },
    "colab_type": "code",
    "id": "DYaWYHg3W4Ny",
    "outputId": "d1c5237c-0551-4876-a33c-8c6e06bafe9b"
   },
   "outputs": [
    {
     "name": "stdout",
     "output_type": "stream",
     "text": [
      "Cloning into 'EVA-2-Group'...\n",
      "remote: Enumerating objects: 1189, done.\u001b[K\n",
      "remote: Counting objects: 100% (1189/1189), done.\u001b[K\n",
      "remote: Compressing objects: 100% (1160/1160), done.\u001b[K\n",
      "remote: Total 2285 (delta 55), reused 1135 (delta 20), pack-reused 1096\u001b[K\n",
      "Receiving objects: 100% (2285/2285), 593.57 MiB | 20.78 MiB/s, done.\n",
      "Resolving deltas: 100% (119/119), done.\n",
      "Checking out files: 100% (2039/2039), done.\n",
      "/content/EVA-2-Group/Session-19\n",
      "On branch master\n",
      "Your branch is up to date with 'origin/master'.\n",
      "\n",
      "nothing to commit, working tree clean\n"
     ]
    }
   ],
   "source": [
    "import sys\n",
    "IN_COLAB = 'google.colab' in sys.modules\n",
    "\n",
    "if IN_COLAB:\n",
    "    import os\n",
    "    os.chdir('/content')\n",
    "    if not os.path.isdir('/content/EVA-2-Group/'):\n",
    "        !git clone https://github.com/sambitdash/EVA-2-Group.git\n",
    "    os.chdir('/content/EVA-2-Group/Session-19')\n",
    "    !pwd\n",
    "    \n",
    "    #!git config user.email \"sambitdash@gmail.com\"\n",
    "    #!git config user.name \"Sambit Kumar Dash\"\n",
    "    #!git config user.password \"your password\"\n",
    "    !git status"
   ]
  },
  {
   "cell_type": "markdown",
   "metadata": {
    "colab_type": "text",
    "id": "82GaJLeLJa7j"
   },
   "source": [
    "## Imports"
   ]
  },
  {
   "cell_type": "code",
   "execution_count": 0,
   "metadata": {
    "colab": {},
    "colab_type": "code",
    "id": "EAcArMveJWOQ"
   },
   "outputs": [],
   "source": [
    "%tensorflow_version 1.x"
   ]
  },
  {
   "cell_type": "code",
   "execution_count": 0,
   "metadata": {
    "colab": {},
    "colab_type": "code",
    "id": "tr4Hd94nJcXf"
   },
   "outputs": [],
   "source": [
    "from tensorflow.keras.optimizers import SGD, Adam\n",
    "from tensorflow.keras.losses import categorical_crossentropy, binary_crossentropy, sparse_categorical_crossentropy\n",
    "from tensorflow.keras import backend as K\n",
    "from tensorflow.keras import Model\n",
    "from tensorflow.keras.layers import Embedding, Flatten, Reshape, Dense, Concatenate, Conv2DTranspose, BatchNormalization, Activation, Input\n",
    "from tensorflow.keras.models import Model, Sequential\n",
    "from tensorflow.keras.utils import plot_model\n",
    "\n",
    "from tensorflow.keras.layers import BatchNormalization, Conv2D, Activation, MaxPool2D, Dropout\n",
    "from tensorflow.keras.layers import add, Input, Dense, Flatten, GlobalAvgPool2D, GlobalAvgPool1D, LeakyReLU\n",
    "from tensorflow.keras.initializers import zeros\n",
    "from tensorflow.keras.initializers import RandomNormal\n",
    "\n",
    "import numpy as np\n",
    "import matplotlib.pyplot as plt\n",
    "\n",
    "%matplotlib inline"
   ]
  },
  {
   "cell_type": "markdown",
   "metadata": {
    "colab_type": "text",
    "id": "7GiLViqJJgag"
   },
   "source": [
    "## Resize Images"
   ]
  },
  {
   "cell_type": "code",
   "execution_count": 5,
   "metadata": {
    "colab": {
     "base_uri": "https://localhost:8080/",
     "height": 68
    },
    "colab_type": "code",
    "id": "fnAv9EIGJfcO",
    "outputId": "8c6fbe9a-356d-4c82-ea06-63dde423a54d"
   },
   "outputs": [
    {
     "name": "stdout",
     "output_type": "stream",
     "text": [
      "(332, 64, 64, 3)\n",
      "(410, 64, 64, 3)\n",
      "(337, 64, 64, 3)\n"
     ]
    }
   ],
   "source": [
    "import cv2\n",
    "import os\n",
    "import numpy as np\n",
    "from os import listdir\n",
    "from os.path import join\n",
    "\n",
    "car_types = ['hatch', 'sedan', 'suv']\n",
    "\n",
    "def resize_image(img, size=(64,64)):\n",
    "\n",
    "    h, w = img.shape[:2]\n",
    "\n",
    "    if h == w: \n",
    "        return cv2.resize(img, size, cv2.INTER_AREA)\n",
    "\n",
    "    dif = h if h > w else w\n",
    "\n",
    "    interpolation = cv2.INTER_AREA if dif > (size[0]+size[1])//2 else cv2.INTER_CUBIC\n",
    "\n",
    "    x_pos = (dif - w)//2\n",
    "    y_pos = (dif - h)//2\n",
    "\n",
    "    if len(img.shape) == 2:\n",
    "        mask = np.zeros((dif, dif), dtype=img.dtype)\n",
    "        mask[y_pos:y_pos+h, x_pos:x_pos+w] = img[:h, :w]\n",
    "    else:\n",
    "        c = img.shape[2]\n",
    "        mask = np.zeros((dif, dif, c), dtype=img.dtype)\n",
    "        mask[y_pos:y_pos+h, x_pos:x_pos+w, :] = img[:h, :w, :]\n",
    "\n",
    "    return cv2.resize(mask, size, interpolation)\n",
    "\n",
    "spath, dpath = join('data', 'cars'), join('data', 'norm')\n",
    "\n",
    "if not os.path.isdir(dpath):\n",
    "    os.mkdir(dpath)\n",
    "\n",
    "imgs = {}\n",
    "\n",
    "\n",
    "for ct in car_types:\n",
    "    sp, dp = join(spath, ct), join(dpath, ct)\n",
    "    alen = 1024\n",
    "    imgs[ct] = np.zeros((1024, 64, 64, 3))\n",
    "    if not os.path.isdir(dp):\n",
    "        os.mkdir(dp)\n",
    "    tlen = 0\n",
    "    for f in listdir(sp):\n",
    "        sf, df = join(sp, f), join(dp, f)\n",
    "        img = cv2.imread(sf)\n",
    "        img = resize_image(img)\n",
    "        img = cv2.cvtColor(img, cv2.COLOR_BGR2RGB)\n",
    "        tlen += 1\n",
    "        if tlen > alen:\n",
    "            imgs[ct] = np.append(imgs[ct], np.zeros((1024, 64, 64, 3)))\n",
    "            alen += 1024\n",
    "        imgs[ct][tlen-1] = img\n",
    "    imgs[ct] = imgs[ct][:tlen]\n",
    "    print(imgs[ct].shape)"
   ]
  },
  {
   "cell_type": "markdown",
   "metadata": {
    "colab_type": "text",
    "id": "pgG1wAb-zHVk"
   },
   "source": [
    "## Generate More Data Using Augmentation"
   ]
  },
  {
   "cell_type": "code",
   "execution_count": 0,
   "metadata": {
    "colab": {},
    "colab_type": "code",
    "id": "JUPT3oSYzNaB"
   },
   "outputs": [],
   "source": [
    "#trainX = imgs['hatch']\n",
    "# can include suv images as well. Let's try with only two categories.\n",
    "data = np.append(imgs['hatch'], imgs['sedan'], axis=0)"
   ]
  },
  {
   "cell_type": "code",
   "execution_count": 7,
   "metadata": {
    "colab": {
     "base_uri": "https://localhost:8080/",
     "height": 34
    },
    "colab_type": "code",
    "id": "Dx0Unha-zi-K",
    "outputId": "be12328e-3de1-49fe-abf6-27a1aee23a45"
   },
   "outputs": [
    {
     "data": {
      "text/plain": [
       "(742, 64, 64, 3)"
      ]
     },
     "execution_count": 7,
     "metadata": {
      "tags": []
     },
     "output_type": "execute_result"
    }
   ],
   "source": [
    "data.shape"
   ]
  },
  {
   "cell_type": "code",
   "execution_count": 0,
   "metadata": {
    "colab": {},
    "colab_type": "code",
    "id": "KRpiTfYNzwMy"
   },
   "outputs": [],
   "source": [
    "from tensorflow.keras import utils \n",
    "from tensorflow.keras.preprocessing.image import ImageDataGenerator\n",
    "\n",
    "datagen = ImageDataGenerator(\n",
    "    rotation_range=20,\n",
    "    width_shift_range=0.2,\n",
    "    height_shift_range=0.2,\n",
    "    horizontal_flip=True)\n",
    "\n",
    "datagen.fit(data)\n",
    "\n",
    "trainX = data\n",
    "\n",
    "for i in range(9):\n",
    "    iterate = datagen.flow(data, batch_size=len(data), shuffle=True)\n",
    "    x = iterate.next()\n",
    "    trainX = np.append(trainX, x, axis=0)"
   ]
  },
  {
   "cell_type": "code",
   "execution_count": 9,
   "metadata": {
    "colab": {
     "base_uri": "https://localhost:8080/",
     "height": 34
    },
    "colab_type": "code",
    "id": "w1_M5gRG0eGz",
    "outputId": "8a5e2f53-4575-4161-9592-229cd200a30e"
   },
   "outputs": [
    {
     "data": {
      "text/plain": [
       "(7420, 64, 64, 3)"
      ]
     },
     "execution_count": 9,
     "metadata": {
      "tags": []
     },
     "output_type": "execute_result"
    }
   ],
   "source": [
    "trainX.shape"
   ]
  },
  {
   "cell_type": "markdown",
   "metadata": {
    "colab_type": "text",
    "id": "qH_1WSgrSyS8"
   },
   "source": [
    "## Convert the data\n",
    "\n",
    "Convert the data from [0,255] to [-1, 1].\n",
    "Note that generator uses tanh activation."
   ]
  },
  {
   "cell_type": "code",
   "execution_count": 0,
   "metadata": {
    "colab": {},
    "colab_type": "code",
    "id": "uBu1l8iFS0M4"
   },
   "outputs": [],
   "source": [
    "def convert_input_data(X):\n",
    "  X = X.astype('float32')\n",
    "\n",
    "  # shift the data from [0, 255] to [-1, 1]\n",
    "  X = (X - 127.5) / 127.5\n",
    "  return X  "
   ]
  },
  {
   "cell_type": "code",
   "execution_count": 0,
   "metadata": {
    "colab": {},
    "colab_type": "code",
    "id": "XaGnNiyPTcNp"
   },
   "outputs": [],
   "source": [
    "trainX = convert_input_data(trainX)"
   ]
  },
  {
   "cell_type": "markdown",
   "metadata": {
    "colab_type": "text",
    "id": "LXYKyF4LKvmg"
   },
   "source": [
    "## Build Discriminator"
   ]
  },
  {
   "cell_type": "code",
   "execution_count": 0,
   "metadata": {
    "colab": {},
    "colab_type": "code",
    "id": "4NoKVIEJKKZB"
   },
   "outputs": [],
   "source": [
    "# define the standalone discriminator model\n",
    "def define_discriminator(in_shape=(64,64,3)):\n",
    "  model = Sequential()\n",
    "  # normal\n",
    "  model.add(Conv2D(64, (3,3), padding= 'same' , input_shape=in_shape))\n",
    "  model.add(LeakyReLU(alpha=0.2))\n",
    "  #downsample\n",
    "  model.add(Conv2D(128, (3,3), strides=(2,2), padding= 'same' ))\n",
    "  model.add(LeakyReLU(alpha=0.2))\n",
    "  # downsample\n",
    "  model.add(Conv2D(128, (3,3), strides=(2,2), padding= 'same' ))\n",
    "  model.add(LeakyReLU(alpha=0.2))\n",
    "  # downsample\n",
    "  model.add(Conv2D(256, (3,3), strides=(2,2), padding= 'same' ))\n",
    "  model.add(LeakyReLU(alpha=0.2))\n",
    "  # downsample\n",
    "  model.add(Conv2D(512, (3,3), strides=(2,2), padding= 'same' ))\n",
    "  model.add(LeakyReLU(alpha=0.2))\n",
    "  # classifier\n",
    "  model.add(Flatten())\n",
    "  model.add(Dropout(0.4))\n",
    "  model.add(Dense(1, activation= 'sigmoid' ))\n",
    "  # compile model\n",
    "  opt = Adam(lr=0.0002, beta_1=0.5)\n",
    "  model.compile(loss= 'binary_crossentropy' , optimizer=opt, metrics=[ 'accuracy' ])\n",
    "  return model"
   ]
  },
  {
   "cell_type": "code",
   "execution_count": 13,
   "metadata": {
    "colab": {
     "base_uri": "https://localhost:8080/",
     "height": 1000
    },
    "colab_type": "code",
    "id": "S3Jp4AFULJuJ",
    "outputId": "16c3536c-f39f-4d46-ecac-8628a500d31a"
   },
   "outputs": [
    {
     "name": "stdout",
     "output_type": "stream",
     "text": [
      "WARNING:tensorflow:From /usr/local/lib/python3.6/dist-packages/tensorflow_core/python/ops/resource_variable_ops.py:1630: calling BaseResourceVariable.__init__ (from tensorflow.python.ops.resource_variable_ops) with constraint is deprecated and will be removed in a future version.\n",
      "Instructions for updating:\n",
      "If using Keras pass *_constraint arguments to layers.\n",
      "WARNING:tensorflow:From /usr/local/lib/python3.6/dist-packages/tensorflow_core/python/ops/nn_impl.py:183: where (from tensorflow.python.ops.array_ops) is deprecated and will be removed in a future version.\n",
      "Instructions for updating:\n",
      "Use tf.where in 2.0, which has the same broadcast rule as np.where\n",
      "Model: \"sequential\"\n",
      "_________________________________________________________________\n",
      "Layer (type)                 Output Shape              Param #   \n",
      "=================================================================\n",
      "conv2d (Conv2D)              (None, 64, 64, 64)        1792      \n",
      "_________________________________________________________________\n",
      "leaky_re_lu (LeakyReLU)      (None, 64, 64, 64)        0         \n",
      "_________________________________________________________________\n",
      "conv2d_1 (Conv2D)            (None, 32, 32, 128)       73856     \n",
      "_________________________________________________________________\n",
      "leaky_re_lu_1 (LeakyReLU)    (None, 32, 32, 128)       0         \n",
      "_________________________________________________________________\n",
      "conv2d_2 (Conv2D)            (None, 16, 16, 128)       147584    \n",
      "_________________________________________________________________\n",
      "leaky_re_lu_2 (LeakyReLU)    (None, 16, 16, 128)       0         \n",
      "_________________________________________________________________\n",
      "conv2d_3 (Conv2D)            (None, 8, 8, 256)         295168    \n",
      "_________________________________________________________________\n",
      "leaky_re_lu_3 (LeakyReLU)    (None, 8, 8, 256)         0         \n",
      "_________________________________________________________________\n",
      "conv2d_4 (Conv2D)            (None, 4, 4, 512)         1180160   \n",
      "_________________________________________________________________\n",
      "leaky_re_lu_4 (LeakyReLU)    (None, 4, 4, 512)         0         \n",
      "_________________________________________________________________\n",
      "flatten (Flatten)            (None, 8192)              0         \n",
      "_________________________________________________________________\n",
      "dropout (Dropout)            (None, 8192)              0         \n",
      "_________________________________________________________________\n",
      "dense (Dense)                (None, 1)                 8193      \n",
      "=================================================================\n",
      "Total params: 1,706,753\n",
      "Trainable params: 1,706,753\n",
      "Non-trainable params: 0\n",
      "_________________________________________________________________\n"
     ]
    },
    {
     "data": {
      "image/png": "[encoded data removed]",
      "text/plain": [
       "<IPython.core.display.Image object>"
      ]
     },
     "execution_count": 13,
     "metadata": {
      "tags": []
     },
     "output_type": "execute_result"
    }
   ],
   "source": [
    "# define model\n",
    "D = define_discriminator()\n",
    "# summarize the model\n",
    "D.summary()\n",
    "# plot the model\n",
    "plot_model(D, to_file= 'discriminator_plot.png' , show_shapes=True, show_layer_names=True)"
   ]
  },
  {
   "cell_type": "markdown",
   "metadata": {
    "colab_type": "text",
    "id": "0SHAy8l_V6o2"
   },
   "source": [
    "## Build Generator"
   ]
  },
  {
   "cell_type": "code",
   "execution_count": 0,
   "metadata": {
    "colab": {},
    "colab_type": "code",
    "id": "0Hg1JB_lV9OA"
   },
   "outputs": [],
   "source": [
    "# define the standalone generator model\n",
    "def define_generator(latent_dim):\n",
    "  model = Sequential()\n",
    "  # foundation for 4x4 image\n",
    "  n_nodes = 256 * 4 * 4\n",
    "                                                                                                             \n",
    "  model.add(Dense(n_nodes, input_dim=latent_dim))\n",
    "  model.add(LeakyReLU(alpha=0.2))\n",
    "  model.add(Reshape((4, 4, 256)))\n",
    "  # upsample to 8x8\n",
    "  model.add(Conv2DTranspose(128, (4,4), strides=(2,2), padding= 'same' ))\n",
    "  model.add(LeakyReLU(alpha=0.2))\n",
    "  # upsample to 16x16\n",
    "  model.add(Conv2DTranspose(128, (4,4), strides=(2,2), padding= 'same' ))\n",
    "  model.add(LeakyReLU(alpha=0.2))\n",
    "  # upsample to 32x32\n",
    "  model.add(Conv2DTranspose(128, (4,4), strides=(2,2), padding= 'same' ))\n",
    "  model.add(LeakyReLU(alpha=0.2))\n",
    "  # upsample to 64x64\n",
    "  model.add(Conv2DTranspose(128, (4,4), strides=(2,2), padding= 'same' ))\n",
    "  model.add(LeakyReLU(alpha=0.2)) \n",
    "  # output layer\n",
    "  model.add(Conv2D(3, (3,3), activation= 'tanh' , padding= 'same' ))\n",
    "  return model"
   ]
  },
  {
   "cell_type": "code",
   "execution_count": 0,
   "metadata": {
    "colab": {},
    "colab_type": "code",
    "id": "8oN9IAfXW1vi"
   },
   "outputs": [],
   "source": [
    "latent_dim = 100"
   ]
  },
  {
   "cell_type": "code",
   "execution_count": 16,
   "metadata": {
    "colab": {
     "base_uri": "https://localhost:8080/",
     "height": 1000
    },
    "colab_type": "code",
    "id": "aeIkrIt1WtaO",
    "outputId": "56c61bd3-2a52-4861-829e-b0fdcb532a22"
   },
   "outputs": [
    {
     "name": "stdout",
     "output_type": "stream",
     "text": [
      "Model: \"sequential_1\"\n",
      "_________________________________________________________________\n",
      "Layer (type)                 Output Shape              Param #   \n",
      "=================================================================\n",
      "dense_1 (Dense)              (None, 4096)              413696    \n",
      "_________________________________________________________________\n",
      "leaky_re_lu_5 (LeakyReLU)    (None, 4096)              0         \n",
      "_________________________________________________________________\n",
      "reshape (Reshape)            (None, 4, 4, 256)         0         \n",
      "_________________________________________________________________\n",
      "conv2d_transpose (Conv2DTran (None, 8, 8, 128)         524416    \n",
      "_________________________________________________________________\n",
      "leaky_re_lu_6 (LeakyReLU)    (None, 8, 8, 128)         0         \n",
      "_________________________________________________________________\n",
      "conv2d_transpose_1 (Conv2DTr (None, 16, 16, 128)       262272    \n",
      "_________________________________________________________________\n",
      "leaky_re_lu_7 (LeakyReLU)    (None, 16, 16, 128)       0         \n",
      "_________________________________________________________________\n",
      "conv2d_transpose_2 (Conv2DTr (None, 32, 32, 128)       262272    \n",
      "_________________________________________________________________\n",
      "leaky_re_lu_8 (LeakyReLU)    (None, 32, 32, 128)       0         \n",
      "_________________________________________________________________\n",
      "conv2d_transpose_3 (Conv2DTr (None, 64, 64, 128)       262272    \n",
      "_________________________________________________________________\n",
      "leaky_re_lu_9 (LeakyReLU)    (None, 64, 64, 128)       0         \n",
      "_________________________________________________________________\n",
      "conv2d_5 (Conv2D)            (None, 64, 64, 3)         3459      \n",
      "=================================================================\n",
      "Total params: 1,728,387\n",
      "Trainable params: 1,728,387\n",
      "Non-trainable params: 0\n",
      "_________________________________________________________________\n"
     ]
    },
    {
     "data": {
      "image/png": "[encoded data removed]",
      "text/plain": [
       "<IPython.core.display.Image object>"
      ]
     },
     "execution_count": 16,
     "metadata": {
      "tags": []
     },
     "output_type": "execute_result"
    }
   ],
   "source": [
    "# create the generator\n",
    "G = define_generator(latent_dim)\n",
    "# summarize the model\n",
    "G.summary()\n",
    "# plot the model\n",
    "plot_model(G, to_file= 'generator_plot.png' , show_shapes=True, show_layer_names=True)"
   ]
  },
  {
   "cell_type": "markdown",
   "metadata": {
    "colab_type": "text",
    "id": "Z4PrGJ3vWdn8"
   },
   "source": [
    "## Define GAN"
   ]
  },
  {
   "cell_type": "code",
   "execution_count": 0,
   "metadata": {
    "colab": {},
    "colab_type": "code",
    "id": "LT223a0bWU2T"
   },
   "outputs": [],
   "source": [
    "# define the combined generator and discriminator model, for updating the generator\n",
    "def define_gan(g_model, d_model):\n",
    "  # make weights in the discriminator not trainable\n",
    "  d_model.trainable = False\n",
    "  # connect them\n",
    "  model = Sequential()\n",
    "  # add generator\n",
    "  model.add(g_model)\n",
    "  # add the discriminator\n",
    "  model.add(d_model)\n",
    "  # compile model\n",
    "  opt = Adam(lr=0.0002, beta_1=0.5)\n",
    "  model.compile(loss= binary_crossentropy , optimizer=opt)\n",
    "  return model"
   ]
  },
  {
   "cell_type": "code",
   "execution_count": 0,
   "metadata": {
    "colab": {},
    "colab_type": "code",
    "id": "OEE_qBNxWrdl"
   },
   "outputs": [],
   "source": [
    "# create the gan\n",
    "gan_model = define_gan(G, D)"
   ]
  },
  {
   "cell_type": "markdown",
   "metadata": {
    "colab_type": "text",
    "id": "8L6azg9kXEyh"
   },
   "source": [
    "## Training Utilities"
   ]
  },
  {
   "cell_type": "code",
   "execution_count": 0,
   "metadata": {
    "colab": {},
    "colab_type": "code",
    "id": "WFsUx-i3XGKT"
   },
   "outputs": [],
   "source": [
    "# select real samples\n",
    "def generate_real_samples(dataset, n_samples):\n",
    "  # choose random instances\n",
    "  ix = np.random.randint(0, dataset.shape[0], n_samples)\n",
    "  # retrieve selected images\n",
    "  X = dataset[ix]\n",
    "  # generate  real  class labels (1)\n",
    "  y = np.ones((n_samples, 1))\n",
    "  return X, y"
   ]
  },
  {
   "cell_type": "code",
   "execution_count": 0,
   "metadata": {
    "colab": {},
    "colab_type": "code",
    "id": "NUk7H8W2Xazm"
   },
   "outputs": [],
   "source": [
    "def generate_latent_points(latent_dim, n_samples, n_classes=2):\n",
    "  # get the random points from normal distribution\n",
    "  x_input = np.random.randn(latent_dim * n_samples)\n",
    "  \n",
    "  data = x_input.reshape(n_samples, latent_dim)\n",
    "  return (data)"
   ]
  },
  {
   "cell_type": "code",
   "execution_count": 0,
   "metadata": {
    "colab": {},
    "colab_type": "code",
    "id": "a3kto50EXl9-"
   },
   "outputs": [],
   "source": [
    "def generate_fake_samples(g_model, latent_dim, n_samples):\n",
    "  # get the latent space\n",
    "  data   = generate_latent_points(latent_dim, n_samples)\n",
    "\n",
    "  # get the images and their labels\n",
    "  images = g_model.predict(data)\n",
    "\n",
    "  # tag them as fake (which is class 0 for discriminator)\n",
    "  fake = np.zeros((n_samples, 1))\n",
    "\n",
    "  return(images, fake)"
   ]
  },
  {
   "cell_type": "markdown",
   "metadata": {
    "colab_type": "text",
    "id": "WJGnGRPgY_-g"
   },
   "source": [
    "## Create Directory To Store Generated Imges"
   ]
  },
  {
   "cell_type": "code",
   "execution_count": 22,
   "metadata": {
    "colab": {
     "base_uri": "https://localhost:8080/",
     "height": 34
    },
    "colab_type": "code",
    "id": "cy-bEyxJ29TF",
    "outputId": "af8beef0-05eb-41a7-82e8-16e8fcdb5980"
   },
   "outputs": [
    {
     "name": "stdout",
     "output_type": "stream",
     "text": [
      "/content/EVA-2-Group/Session-19\n"
     ]
    }
   ],
   "source": [
    "!pwd"
   ]
  },
  {
   "cell_type": "code",
   "execution_count": 0,
   "metadata": {
    "colab": {},
    "colab_type": "code",
    "id": "QUpRSI9G3BmD"
   },
   "outputs": [],
   "source": [
    "!mkdir gen_images"
   ]
  },
  {
   "cell_type": "code",
   "execution_count": 0,
   "metadata": {
    "colab": {},
    "colab_type": "code",
    "id": "xXY9Xtmm3P8n"
   },
   "outputs": [],
   "source": [
    "os.chdir('gen_images')"
   ]
  },
  {
   "cell_type": "code",
   "execution_count": 25,
   "metadata": {
    "colab": {
     "base_uri": "https://localhost:8080/",
     "height": 34
    },
    "colab_type": "code",
    "id": "CKwORTpx3d-J",
    "outputId": "5ed6ba64-44ca-4321-8638-c3a4d72f9169"
   },
   "outputs": [
    {
     "name": "stdout",
     "output_type": "stream",
     "text": [
      "/content/EVA-2-Group/Session-19/gen_images\n"
     ]
    }
   ],
   "source": [
    "!pwd"
   ]
  },
  {
   "cell_type": "code",
   "execution_count": 0,
   "metadata": {
    "colab": {},
    "colab_type": "code",
    "id": "Za00j2RnZJdM"
   },
   "outputs": [],
   "source": [
    "# At regular intervals during training process\n",
    "# generate images from generator\n",
    "# and also, save model\n",
    "#\n",
    "def summarize_performance(step, gen_model, latent_dim, n_samples=25):\n",
    "  # get the generated images\n",
    "  fake_images, _ = generate_fake_samples(gen_model, latent_dim, n_samples)\n",
    "\n",
    "  # scale the images from [-1,1] to [0,1]\n",
    "  fake_images = (fake_images + 1) / 2.0\n",
    "\n",
    "  # plot images\n",
    "  for i in range(25):\n",
    "    plt.subplot(5, 5, 1+i)\n",
    "    plt.axis('off')\n",
    "    plt.imshow(fake_images[i])\n",
    "\n",
    "  # save the plot to file\n",
    "  filename = 'gen_plot_%04d.png' % (step+1)\n",
    "  plt.savefig(filename)\n",
    "  plt.close()\n",
    "\n",
    "  # save the model as well\n",
    "  model_file = 'gen_model_%04d.hdf5' % (step+1)\n",
    "  #gen_model.save(model_file)\n",
    "  print('Saved: %s and %s' % (filename, model_file))"
   ]
  },
  {
   "cell_type": "code",
   "execution_count": 0,
   "metadata": {
    "colab": {},
    "colab_type": "code",
    "id": "ze9Hw2WNZNqu"
   },
   "outputs": [],
   "source": [
    "# train the generator and discriminator\n",
    "def train(g_model, d_model, gan_model, trainX, latent_dim, n_epochs=100, n_batch=64):\n",
    "  # calculate the number of batches per training epoch\n",
    "  bat_per_epo = int(trainX.shape[0] / n_batch)\n",
    "\n",
    "  # calculate the number of training iterations\n",
    "  n_steps = bat_per_epo * n_epochs\n",
    "  print('Total steps:', n_steps)\n",
    "\n",
    "  # calculate the size of half a batch of samples\n",
    "  half_batch = int(n_batch / 2)\n",
    "\n",
    "  # manually enumerate epochs\n",
    "  for i in range(n_steps):\n",
    "    # get randomly selected  real  samples\n",
    "    X_real, y_real = generate_real_samples(trainX, half_batch)\n",
    "\n",
    "    # update discriminator model weights\n",
    "    d_loss1, _ = d_model.train_on_batch(X_real, y_real)\n",
    "\n",
    "    # generate  fake  examples\n",
    "    X_fake, y_fake = generate_fake_samples(g_model, latent_dim, half_batch)\n",
    "\n",
    "    # update discriminator model weights\n",
    "    d_loss2, _ = d_model.train_on_batch(X_fake, y_fake)\n",
    "\n",
    "    # prepare points in latent space as input for the generator\n",
    "    X_gan = generate_latent_points(latent_dim, n_batch)\n",
    "\n",
    "    # create inverted labels for the fake samples\n",
    "    y_gan = np.ones((n_batch, 1))\n",
    "\n",
    "    # update the generator via the discriminator s error\n",
    "    g_loss = gan_model.train_on_batch(X_gan, y_gan)\n",
    "    \n",
    "    \n",
    "    if (i+1) % (bat_per_epo * 1) == 0:\n",
    "      # summarize loss on this batch\n",
    "      print( '>%d, d1[%.3f], d2[%.3f], g[%.3f]'  % (i+1, d_loss1, d_loss2, g_loss))\n",
    "      \n",
    "    # evaluate the model performance every  epoch\n",
    "    if (i+1) % (bat_per_epo * 10) == 0:\n",
    "      summarize_performance(i, g_model, latent_dim)"
   ]
  },
  {
   "cell_type": "markdown",
   "metadata": {
    "colab_type": "text",
    "id": "JA-Uv8PN4kcg"
   },
   "source": [
    "## Traning"
   ]
  },
  {
   "cell_type": "code",
   "execution_count": 29,
   "metadata": {
    "colab": {
     "base_uri": "https://localhost:8080/",
     "height": 221
    },
    "colab_type": "code",
    "id": "DKMNUtOkZPaZ",
    "outputId": "3ca4e764-b893-4f20-962d-4a64cb7c3c7a"
   },
   "outputs": [
    {
     "name": "stdout",
     "output_type": "stream",
     "text": [
      "Total steps: 740\n",
      ">74, d1[0.175], d2[0.099], g[3.050]\n",
      ">148, d1[0.000], d2[0.015], g[4.848]\n",
      ">222, d1[0.250], d2[0.006], g[6.591]\n",
      ">296, d1[0.062], d2[0.129], g[5.384]\n",
      ">370, d1[0.380], d2[0.294], g[3.138]\n",
      ">444, d1[0.155], d2[0.219], g[3.007]\n",
      ">518, d1[0.195], d2[0.256], g[3.002]\n",
      ">592, d1[0.330], d2[0.162], g[2.871]\n",
      ">666, d1[0.110], d2[0.146], g[2.997]\n",
      ">740, d1[0.335], d2[0.233], g[2.969]\n",
      "Saved: gen_plot_0740.png and gen_model_0740.hdf5\n"
     ]
    }
   ],
   "source": [
    "# train model\n",
    "train(G, D, gan_model, trainX, latent_dim, n_epochs=10, n_batch=100)"
   ]
  },
  {
   "cell_type": "code",
   "execution_count": 0,
   "metadata": {
    "colab": {
     "base_uri": "https://localhost:8080/",
     "height": 1000
    },
    "colab_type": "code",
    "id": "VlZgWVG5bkvf",
    "outputId": "06d259b5-04c0-48bd-b521-270d8e401074"
   },
   "outputs": [
    {
     "name": "stdout",
     "output_type": "stream",
     "text": [
      "Total steps: 3700\n",
      "WARNING:tensorflow:Discrepancy between trainable weights and collected trainable weights, did you set `model.trainable` without calling `model.compile` after ?\n",
      "WARNING:tensorflow:Discrepancy between trainable weights and collected trainable weights, did you set `model.trainable` without calling `model.compile` after ?\n",
      ">74, d1[0.039], d2[0.347], g[5.987]\n",
      ">148, d1[0.191], d2[0.074], g[4.356]\n",
      ">222, d1[0.032], d2[0.025], g[4.828]\n",
      ">296, d1[0.189], d2[0.208], g[3.768]\n",
      ">370, d1[0.214], d2[0.252], g[4.600]\n",
      ">444, d1[0.869], d2[0.022], g[5.802]\n",
      ">518, d1[0.364], d2[0.374], g[3.231]\n",
      ">592, d1[0.439], d2[0.233], g[4.022]\n",
      ">666, d1[0.207], d2[0.276], g[3.169]\n",
      ">740, d1[0.353], d2[0.096], g[3.037]\n",
      "Saved: gen_plot_0740.png and gen_model_0740.hdf5\n",
      ">814, d1[0.216], d2[0.242], g[2.653]\n",
      ">888, d1[0.322], d2[0.160], g[3.169]\n",
      ">962, d1[0.209], d2[0.249], g[3.487]\n",
      ">1036, d1[0.138], d2[0.104], g[5.033]\n",
      ">1110, d1[0.211], d2[0.122], g[3.544]\n",
      ">1184, d1[0.225], d2[0.080], g[4.322]\n",
      ">1258, d1[0.196], d2[0.163], g[3.397]\n",
      ">1332, d1[0.329], d2[0.147], g[3.613]\n",
      ">1406, d1[0.213], d2[0.189], g[3.496]\n",
      ">1480, d1[0.034], d2[0.234], g[3.878]\n",
      "Saved: gen_plot_1480.png and gen_model_1480.hdf5\n",
      ">1554, d1[0.366], d2[0.181], g[3.282]\n",
      ">1628, d1[0.158], d2[0.326], g[3.913]\n",
      ">1702, d1[0.187], d2[0.120], g[3.558]\n",
      ">1776, d1[0.566], d2[0.043], g[3.899]\n",
      ">1850, d1[0.705], d2[0.462], g[4.050]\n",
      ">1924, d1[0.204], d2[0.069], g[3.471]\n",
      ">1998, d1[0.323], d2[0.118], g[2.911]\n",
      ">2072, d1[0.137], d2[0.125], g[3.559]\n",
      ">2146, d1[0.135], d2[0.523], g[4.708]\n",
      ">2220, d1[0.348], d2[0.088], g[3.560]\n",
      "Saved: gen_plot_2220.png and gen_model_2220.hdf5\n",
      ">2294, d1[0.194], d2[0.090], g[3.456]\n",
      ">2368, d1[0.567], d2[0.128], g[3.101]\n",
      ">2442, d1[0.491], d2[0.447], g[4.575]\n",
      ">2516, d1[0.155], d2[0.358], g[5.227]\n",
      ">2590, d1[0.116], d2[0.401], g[4.347]\n",
      ">2664, d1[0.252], d2[0.202], g[3.632]\n",
      ">2738, d1[0.100], d2[0.293], g[3.907]\n",
      ">2812, d1[0.582], d2[0.549], g[2.199]\n",
      ">2886, d1[0.757], d2[0.346], g[2.464]\n",
      ">2960, d1[0.153], d2[0.202], g[2.816]\n",
      "Saved: gen_plot_2960.png and gen_model_2960.hdf5\n",
      ">3034, d1[0.304], d2[0.215], g[2.906]\n",
      ">3108, d1[0.253], d2[0.223], g[3.508]\n",
      ">3182, d1[0.188], d2[0.044], g[4.148]\n",
      ">3256, d1[0.300], d2[0.167], g[2.848]\n",
      ">3330, d1[0.215], d2[0.202], g[3.426]\n",
      ">3404, d1[0.134], d2[0.123], g[3.226]\n",
      ">3478, d1[0.391], d2[0.129], g[3.224]\n",
      ">3552, d1[0.272], d2[0.088], g[3.408]\n",
      ">3626, d1[0.212], d2[0.203], g[3.351]\n",
      ">3700, d1[0.283], d2[0.249], g[3.560]\n",
      "Saved: gen_plot_3700.png and gen_model_3700.hdf5\n"
     ]
    }
   ],
   "source": [
    "# train model\n",
    "train(G, D, gan_model, trainX, latent_dim, n_epochs=50, n_batch=100)"
   ]
  },
  {
   "cell_type": "code",
   "execution_count": 0,
   "metadata": {
    "colab": {
     "base_uri": "https://localhost:8080/",
     "height": 1000
    },
    "colab_type": "code",
    "id": "dLUraJrqbqk7",
    "outputId": "8f037d82-41dc-452c-d047-d4d259b84d73"
   },
   "outputs": [
    {
     "name": "stdout",
     "output_type": "stream",
     "text": [
      "Total steps: 14800\n",
      ">148, d1[0.202], d2[0.281], g[4.011]\n",
      ">296, d1[0.118], d2[0.225], g[3.474]\n",
      ">444, d1[0.487], d2[0.168], g[3.398]\n",
      ">592, d1[0.295], d2[0.208], g[2.878]\n",
      ">740, d1[0.360], d2[0.284], g[2.911]\n",
      ">888, d1[0.109], d2[0.101], g[3.311]\n",
      ">1036, d1[0.328], d2[0.153], g[2.840]\n",
      ">1184, d1[0.311], d2[0.153], g[2.795]\n",
      ">1332, d1[0.128], d2[0.078], g[3.592]\n",
      ">1480, d1[0.170], d2[0.290], g[3.388]\n",
      "Saved: gen_plot_1480.png and gen_model_1480.hdf5\n",
      ">1628, d1[0.265], d2[0.052], g[4.264]\n",
      ">1776, d1[0.205], d2[0.172], g[2.791]\n",
      ">1924, d1[0.235], d2[0.051], g[3.348]\n",
      ">2072, d1[0.160], d2[0.043], g[3.790]\n",
      ">2220, d1[0.546], d2[0.105], g[3.562]\n",
      ">2368, d1[0.304], d2[0.138], g[3.380]\n",
      ">2516, d1[0.454], d2[0.168], g[2.069]\n",
      ">2664, d1[0.143], d2[0.071], g[3.152]\n",
      ">2812, d1[0.355], d2[0.115], g[3.199]\n",
      ">2960, d1[0.108], d2[0.361], g[3.817]\n",
      "Saved: gen_plot_2960.png and gen_model_2960.hdf5\n",
      ">3108, d1[0.275], d2[0.219], g[2.978]\n",
      ">3256, d1[0.025], d2[0.109], g[3.762]\n",
      ">3404, d1[0.459], d2[0.226], g[2.679]\n",
      ">3552, d1[0.155], d2[0.471], g[3.124]\n",
      ">3700, d1[0.206], d2[0.144], g[3.425]\n",
      ">3848, d1[0.373], d2[0.105], g[3.553]\n",
      ">3996, d1[0.404], d2[0.127], g[3.014]\n",
      ">4144, d1[0.475], d2[0.241], g[2.808]\n",
      ">4292, d1[0.316], d2[0.401], g[3.454]\n",
      ">4440, d1[0.170], d2[0.396], g[3.846]\n",
      "Saved: gen_plot_4440.png and gen_model_4440.hdf5\n",
      ">4588, d1[0.179], d2[0.170], g[3.109]\n",
      ">4736, d1[0.067], d2[0.142], g[4.064]\n",
      ">4884, d1[0.266], d2[0.115], g[3.558]\n",
      ">5032, d1[0.546], d2[0.270], g[4.469]\n",
      ">5180, d1[0.132], d2[0.121], g[3.303]\n",
      ">5328, d1[0.346], d2[0.284], g[3.274]\n",
      ">5476, d1[0.245], d2[0.276], g[3.627]\n",
      ">5624, d1[0.295], d2[0.171], g[4.245]\n",
      ">5772, d1[0.264], d2[0.204], g[3.775]\n",
      ">5920, d1[0.181], d2[0.534], g[4.087]\n",
      "Saved: gen_plot_5920.png and gen_model_5920.hdf5\n",
      ">6068, d1[0.286], d2[0.104], g[3.681]\n",
      ">6216, d1[0.133], d2[0.244], g[2.325]\n",
      ">6364, d1[0.315], d2[0.363], g[2.778]\n",
      ">6512, d1[0.242], d2[0.159], g[3.365]\n",
      ">6660, d1[0.138], d2[0.110], g[3.348]\n",
      ">6808, d1[0.155], d2[0.486], g[3.184]\n",
      ">6956, d1[0.273], d2[0.161], g[2.930]\n",
      ">7104, d1[0.322], d2[0.132], g[2.844]\n",
      ">7252, d1[0.285], d2[0.126], g[3.606]\n",
      ">7400, d1[0.156], d2[0.093], g[3.924]\n",
      "Saved: gen_plot_7400.png and gen_model_7400.hdf5\n",
      ">7548, d1[0.103], d2[0.050], g[5.204]\n",
      ">7696, d1[0.176], d2[0.127], g[4.165]\n",
      ">7844, d1[0.213], d2[0.185], g[4.241]\n",
      ">7992, d1[0.066], d2[0.141], g[4.057]\n",
      ">8140, d1[0.175], d2[0.049], g[4.211]\n",
      ">8288, d1[0.400], d2[0.024], g[4.374]\n",
      ">8436, d1[0.220], d2[0.061], g[4.677]\n",
      ">8584, d1[0.164], d2[0.112], g[3.965]\n",
      ">8732, d1[0.290], d2[0.499], g[3.642]\n",
      ">8880, d1[0.289], d2[0.045], g[4.142]\n",
      "Saved: gen_plot_8880.png and gen_model_8880.hdf5\n",
      ">9028, d1[0.100], d2[0.076], g[4.131]\n",
      ">9176, d1[0.139], d2[0.137], g[4.482]\n",
      ">9324, d1[0.207], d2[0.057], g[4.041]\n",
      ">9472, d1[0.104], d2[0.120], g[4.490]\n",
      ">9620, d1[0.060], d2[0.432], g[4.592]\n",
      ">9768, d1[0.121], d2[0.118], g[3.562]\n",
      ">9916, d1[0.372], d2[0.078], g[3.180]\n",
      ">10064, d1[0.033], d2[0.250], g[4.588]\n",
      ">10212, d1[0.271], d2[0.163], g[4.007]\n",
      ">10360, d1[0.041], d2[0.189], g[4.820]\n",
      "Saved: gen_plot_10360.png and gen_model_10360.hdf5\n",
      ">10508, d1[0.086], d2[0.640], g[3.861]\n",
      ">10656, d1[0.279], d2[0.096], g[3.821]\n",
      ">10804, d1[0.083], d2[0.072], g[4.655]\n",
      ">10952, d1[0.015], d2[0.395], g[5.290]\n",
      ">11100, d1[0.127], d2[0.072], g[4.773]\n",
      ">11248, d1[0.038], d2[0.108], g[4.409]\n",
      ">11396, d1[0.286], d2[0.014], g[4.689]\n",
      ">11544, d1[0.035], d2[0.314], g[5.466]\n",
      ">11692, d1[0.071], d2[0.149], g[4.513]\n",
      ">11840, d1[0.529], d2[0.104], g[4.196]\n",
      "Saved: gen_plot_11840.png and gen_model_11840.hdf5\n",
      ">11988, d1[0.085], d2[0.053], g[5.244]\n",
      ">12136, d1[0.274], d2[0.174], g[4.678]\n",
      ">12284, d1[0.402], d2[0.191], g[4.145]\n",
      ">12432, d1[0.049], d2[0.109], g[4.073]\n",
      ">12580, d1[0.229], d2[0.041], g[4.114]\n",
      ">12728, d1[0.355], d2[0.035], g[4.817]\n",
      ">12876, d1[0.045], d2[0.173], g[5.257]\n",
      ">13024, d1[0.008], d2[0.193], g[5.377]\n",
      ">13172, d1[0.086], d2[0.010], g[5.317]\n",
      ">13320, d1[0.271], d2[0.095], g[4.825]\n",
      "Saved: gen_plot_13320.png and gen_model_13320.hdf5\n",
      ">13468, d1[0.294], d2[0.118], g[4.560]\n",
      ">13616, d1[0.063], d2[0.204], g[4.325]\n",
      ">13764, d1[0.022], d2[0.175], g[5.627]\n",
      ">13912, d1[0.047], d2[0.152], g[4.636]\n",
      ">14060, d1[0.201], d2[0.168], g[5.582]\n",
      ">14208, d1[0.020], d2[0.172], g[5.319]\n",
      ">14356, d1[0.241], d2[0.229], g[4.257]\n",
      ">14504, d1[0.012], d2[0.057], g[5.143]\n",
      ">14652, d1[0.006], d2[0.064], g[5.537]\n",
      ">14800, d1[0.135], d2[0.190], g[4.742]\n",
      "Saved: gen_plot_14800.png and gen_model_14800.hdf5\n"
     ]
    }
   ],
   "source": [
    "train(G, D, gan_model, trainX, latent_dim, n_epochs=100, n_batch=50)"
   ]
  },
  {
   "cell_type": "code",
   "execution_count": 0,
   "metadata": {
    "colab": {},
    "colab_type": "code",
    "id": "45bNx48hgnyX"
   },
   "outputs": [],
   "source": [
    "gan_model.save('gan_model.hdf5')"
   ]
  },
  {
   "cell_type": "code",
   "execution_count": 0,
   "metadata": {
    "colab": {},
    "colab_type": "code",
    "id": "2PLSLzNMg6e8"
   },
   "outputs": [],
   "source": [
    "D.save('D_model.hdf5')"
   ]
  },
  {
   "cell_type": "code",
   "execution_count": 0,
   "metadata": {
    "colab": {},
    "colab_type": "code",
    "id": "f_1jsWV3g9Rt"
   },
   "outputs": [],
   "source": [
    "G.save('G_model.hdf5')"
   ]
  },
  {
   "cell_type": "markdown",
   "metadata": {
    "colab_type": "text",
    "id": "L34F9K54hHy8"
   },
   "source": [
    "## Train more"
   ]
  },
  {
   "cell_type": "code",
   "execution_count": 0,
   "metadata": {
    "colab": {
     "base_uri": "https://localhost:8080/",
     "height": 1000
    },
    "colab_type": "code",
    "id": "ypAJF1mzhFzL",
    "outputId": "f13674ef-6c0a-44d9-9c77-9442c176f638"
   },
   "outputs": [
    {
     "name": "stdout",
     "output_type": "stream",
     "text": [
      "Total steps: 29600\n",
      ">148, d1[0.110], d2[0.013], g[4.973]\n",
      ">296, d1[0.024], d2[0.008], g[5.797]\n",
      ">444, d1[0.043], d2[0.020], g[6.013]\n",
      ">592, d1[0.050], d2[0.442], g[6.879]\n",
      ">740, d1[0.116], d2[0.133], g[6.224]\n",
      ">888, d1[0.097], d2[0.639], g[5.251]\n",
      ">1036, d1[0.047], d2[0.303], g[5.549]\n",
      ">1184, d1[0.045], d2[0.015], g[6.069]\n",
      ">1332, d1[0.017], d2[0.040], g[5.151]\n",
      ">1480, d1[0.074], d2[0.103], g[3.805]\n",
      "Saved: gen_plot_1480.png and gen_model_1480.hdf5\n",
      ">1628, d1[0.186], d2[0.022], g[5.308]\n",
      ">1776, d1[0.087], d2[0.127], g[5.957]\n",
      ">1924, d1[0.169], d2[0.046], g[6.507]\n",
      ">2072, d1[0.178], d2[0.093], g[4.529]\n",
      ">2220, d1[0.015], d2[0.013], g[5.350]\n",
      ">2368, d1[0.214], d2[0.039], g[5.573]\n",
      ">2516, d1[0.002], d2[0.057], g[5.026]\n",
      ">2664, d1[0.019], d2[0.067], g[5.414]\n",
      ">2812, d1[0.055], d2[0.050], g[6.167]\n",
      ">2960, d1[0.121], d2[0.039], g[6.386]\n",
      "Saved: gen_plot_2960.png and gen_model_2960.hdf5\n",
      ">3108, d1[0.264], d2[0.035], g[5.918]\n",
      ">3256, d1[0.256], d2[0.039], g[3.852]\n",
      ">3404, d1[0.028], d2[0.020], g[6.047]\n",
      ">3552, d1[0.001], d2[0.112], g[5.515]\n",
      ">3700, d1[0.164], d2[0.071], g[4.627]\n",
      ">3848, d1[0.197], d2[0.357], g[6.398]\n",
      ">3996, d1[0.160], d2[0.157], g[5.243]\n",
      ">4144, d1[0.675], d2[0.263], g[2.976]\n",
      ">4292, d1[0.183], d2[0.282], g[4.593]\n",
      ">4440, d1[0.304], d2[0.158], g[4.591]\n",
      "Saved: gen_plot_4440.png and gen_model_4440.hdf5\n",
      ">4588, d1[0.046], d2[0.017], g[5.366]\n",
      ">4736, d1[0.084], d2[0.090], g[5.586]\n",
      ">4884, d1[0.036], d2[0.168], g[6.179]\n",
      ">5032, d1[0.126], d2[0.094], g[4.288]\n",
      ">5180, d1[0.061], d2[0.026], g[6.071]\n",
      ">5328, d1[0.071], d2[0.183], g[6.101]\n",
      ">5476, d1[0.163], d2[0.083], g[4.860]\n",
      ">5624, d1[0.140], d2[0.085], g[6.435]\n",
      ">5772, d1[0.077], d2[0.153], g[4.661]\n",
      ">5920, d1[0.108], d2[0.439], g[6.452]\n",
      "Saved: gen_plot_5920.png and gen_model_5920.hdf5\n",
      ">6068, d1[0.107], d2[0.044], g[5.952]\n",
      ">6216, d1[0.073], d2[0.064], g[6.282]\n",
      ">6364, d1[0.265], d2[0.035], g[5.733]\n",
      ">6512, d1[0.282], d2[0.042], g[5.088]\n",
      ">6660, d1[0.198], d2[0.729], g[6.917]\n",
      ">6808, d1[0.079], d2[0.204], g[3.614]\n",
      ">6956, d1[0.119], d2[0.136], g[4.756]\n",
      ">7104, d1[0.164], d2[0.102], g[4.866]\n",
      ">7252, d1[0.015], d2[0.055], g[5.070]\n",
      ">7400, d1[0.020], d2[0.162], g[5.347]\n",
      "Saved: gen_plot_7400.png and gen_model_7400.hdf5\n",
      ">7548, d1[0.164], d2[0.173], g[5.492]\n",
      ">7696, d1[0.004], d2[0.109], g[5.968]\n",
      ">7844, d1[0.145], d2[0.473], g[5.454]\n",
      ">7992, d1[0.115], d2[0.320], g[6.936]\n",
      ">8140, d1[0.186], d2[0.053], g[5.189]\n",
      ">8288, d1[0.035], d2[0.051], g[5.614]\n",
      ">8436, d1[0.036], d2[0.056], g[5.790]\n",
      ">8584, d1[0.151], d2[0.037], g[5.894]\n",
      ">8732, d1[0.081], d2[0.103], g[5.206]\n",
      ">8880, d1[0.231], d2[0.033], g[5.786]\n",
      "Saved: gen_plot_8880.png and gen_model_8880.hdf5\n",
      ">9028, d1[0.205], d2[0.172], g[6.345]\n",
      ">9176, d1[0.016], d2[0.080], g[5.297]\n",
      ">9324, d1[0.432], d2[0.089], g[4.109]\n",
      ">9472, d1[0.066], d2[0.086], g[5.392]\n",
      ">9620, d1[0.037], d2[0.240], g[6.226]\n",
      ">9768, d1[0.044], d2[0.094], g[5.239]\n",
      ">9916, d1[0.022], d2[0.109], g[4.865]\n",
      ">10064, d1[0.014], d2[0.088], g[5.687]\n",
      ">10212, d1[0.129], d2[0.024], g[4.875]\n",
      ">10360, d1[0.279], d2[0.175], g[5.464]\n",
      "Saved: gen_plot_10360.png and gen_model_10360.hdf5\n",
      ">10508, d1[0.021], d2[0.345], g[7.881]\n",
      ">10656, d1[0.034], d2[0.019], g[5.236]\n",
      ">10804, d1[0.019], d2[0.139], g[5.663]\n",
      ">10952, d1[0.089], d2[0.066], g[5.290]\n",
      ">11100, d1[0.210], d2[0.027], g[6.449]\n",
      ">11248, d1[0.008], d2[0.094], g[6.630]\n",
      ">11396, d1[0.171], d2[0.158], g[5.570]\n",
      ">11544, d1[0.114], d2[0.033], g[5.507]\n",
      ">11692, d1[0.016], d2[0.015], g[6.198]\n",
      ">11840, d1[0.092], d2[0.052], g[6.288]\n",
      "Saved: gen_plot_11840.png and gen_model_11840.hdf5\n",
      ">11988, d1[0.015], d2[0.026], g[5.689]\n",
      ">12136, d1[0.022], d2[0.537], g[7.018]\n",
      ">12284, d1[0.131], d2[0.024], g[7.248]\n",
      ">12432, d1[0.012], d2[0.025], g[5.401]\n",
      ">12580, d1[0.073], d2[0.153], g[6.940]\n",
      ">12728, d1[0.043], d2[0.064], g[5.469]\n",
      ">12876, d1[0.133], d2[0.039], g[7.290]\n",
      ">13024, d1[0.015], d2[0.040], g[5.815]\n",
      ">13172, d1[0.012], d2[0.247], g[6.747]\n",
      ">13320, d1[0.156], d2[0.036], g[5.594]\n",
      "Saved: gen_plot_13320.png and gen_model_13320.hdf5\n",
      ">13468, d1[0.044], d2[0.258], g[6.696]\n",
      ">13616, d1[4.226], d2[1.020], g[8.056]\n",
      ">13764, d1[0.215], d2[0.247], g[4.712]\n",
      ">13912, d1[0.019], d2[0.375], g[5.977]\n",
      ">14060, d1[0.143], d2[0.180], g[5.464]\n",
      ">14208, d1[0.059], d2[0.049], g[5.531]\n",
      ">14356, d1[0.021], d2[0.041], g[6.185]\n",
      ">14504, d1[0.083], d2[0.157], g[5.774]\n",
      ">14652, d1[0.116], d2[0.029], g[5.765]\n",
      ">14800, d1[0.037], d2[0.049], g[5.937]\n",
      "Saved: gen_plot_14800.png and gen_model_14800.hdf5\n",
      ">14948, d1[0.352], d2[0.084], g[4.563]\n",
      ">15096, d1[0.072], d2[0.196], g[6.228]\n",
      ">15244, d1[0.044], d2[0.073], g[5.371]\n",
      ">15392, d1[0.105], d2[0.184], g[6.612]\n",
      ">15540, d1[0.005], d2[0.047], g[7.213]\n",
      ">15688, d1[0.023], d2[0.079], g[5.506]\n",
      ">15836, d1[0.019], d2[0.054], g[5.656]\n",
      ">15984, d1[0.202], d2[0.102], g[5.274]\n",
      ">16132, d1[0.029], d2[0.066], g[5.978]\n",
      ">16280, d1[0.098], d2[0.027], g[6.736]\n",
      "Saved: gen_plot_16280.png and gen_model_16280.hdf5\n",
      ">16428, d1[0.034], d2[0.128], g[6.181]\n",
      ">16576, d1[0.005], d2[0.300], g[7.119]\n",
      ">16724, d1[0.002], d2[0.333], g[6.526]\n",
      ">16872, d1[0.017], d2[0.074], g[6.319]\n",
      ">17020, d1[0.356], d2[0.265], g[5.894]\n",
      ">17168, d1[0.067], d2[0.023], g[6.698]\n",
      ">17316, d1[0.008], d2[0.114], g[5.211]\n",
      ">17464, d1[0.160], d2[0.283], g[6.706]\n",
      ">17612, d1[0.061], d2[0.026], g[6.566]\n",
      ">17760, d1[0.024], d2[0.015], g[6.681]\n",
      "Saved: gen_plot_17760.png and gen_model_17760.hdf5\n",
      ">17908, d1[0.013], d2[0.874], g[6.932]\n",
      ">18056, d1[0.287], d2[0.144], g[4.862]\n",
      ">18204, d1[0.023], d2[0.002], g[7.896]\n",
      ">18352, d1[0.039], d2[0.081], g[5.186]\n",
      ">18500, d1[0.037], d2[0.014], g[6.223]\n",
      ">18648, d1[0.098], d2[0.227], g[6.360]\n",
      ">18796, d1[0.420], d2[0.047], g[5.838]\n",
      ">18944, d1[0.174], d2[0.013], g[5.552]\n",
      ">19092, d1[0.201], d2[0.124], g[5.761]\n",
      ">19240, d1[0.086], d2[0.086], g[4.565]\n",
      "Saved: gen_plot_19240.png and gen_model_19240.hdf5\n",
      ">19388, d1[0.031], d2[0.171], g[6.447]\n",
      ">19536, d1[0.212], d2[0.464], g[6.415]\n",
      ">19684, d1[0.382], d2[0.021], g[6.319]\n",
      ">19832, d1[0.011], d2[0.023], g[9.187]\n",
      ">19980, d1[0.065], d2[0.208], g[6.735]\n",
      ">20128, d1[0.015], d2[0.368], g[8.425]\n",
      ">20276, d1[0.189], d2[0.067], g[6.939]\n",
      ">20424, d1[0.129], d2[0.055], g[5.994]\n",
      ">20572, d1[0.337], d2[0.125], g[6.090]\n",
      ">20720, d1[0.012], d2[0.007], g[6.536]\n",
      "Saved: gen_plot_20720.png and gen_model_20720.hdf5\n",
      ">20868, d1[0.056], d2[0.042], g[6.951]\n",
      ">21016, d1[0.111], d2[0.097], g[5.760]\n",
      ">21164, d1[0.012], d2[0.041], g[6.577]\n",
      ">21312, d1[0.028], d2[0.264], g[8.000]\n",
      ">21460, d1[0.308], d2[0.001], g[9.473]\n",
      ">21608, d1[0.124], d2[0.033], g[7.175]\n",
      ">21756, d1[0.125], d2[0.141], g[7.674]\n",
      ">21904, d1[0.056], d2[0.133], g[5.201]\n",
      ">22052, d1[0.136], d2[0.162], g[6.043]\n",
      ">22200, d1[0.005], d2[0.024], g[6.621]\n",
      "Saved: gen_plot_22200.png and gen_model_22200.hdf5\n",
      ">22348, d1[0.137], d2[0.033], g[5.829]\n",
      ">22496, d1[0.067], d2[0.002], g[9.181]\n",
      ">22644, d1[0.020], d2[0.152], g[8.935]\n",
      ">22792, d1[0.023], d2[0.085], g[7.907]\n",
      ">22940, d1[0.204], d2[0.034], g[5.928]\n",
      ">23088, d1[0.082], d2[0.205], g[9.501]\n",
      ">23236, d1[0.143], d2[0.048], g[7.721]\n",
      ">23384, d1[0.285], d2[0.215], g[6.676]\n",
      ">23532, d1[0.040], d2[0.089], g[6.811]\n",
      ">23680, d1[0.022], d2[0.612], g[7.525]\n",
      "Saved: gen_plot_23680.png and gen_model_23680.hdf5\n",
      ">23828, d1[0.245], d2[0.025], g[6.010]\n",
      ">23976, d1[0.107], d2[0.575], g[8.237]\n",
      ">24124, d1[0.074], d2[0.030], g[7.538]\n",
      ">24272, d1[0.041], d2[0.013], g[6.109]\n",
      ">24420, d1[0.043], d2[0.164], g[6.987]\n",
      ">24568, d1[0.114], d2[0.018], g[6.244]\n",
      ">24716, d1[0.025], d2[0.002], g[7.667]\n",
      ">24864, d1[0.005], d2[0.006], g[8.950]\n",
      ">25012, d1[0.037], d2[0.066], g[7.062]\n",
      ">25160, d1[0.017], d2[0.081], g[7.049]\n",
      "Saved: gen_plot_25160.png and gen_model_25160.hdf5\n",
      ">25308, d1[0.234], d2[0.013], g[6.969]\n",
      ">25456, d1[0.039], d2[0.009], g[7.100]\n",
      ">25604, d1[0.043], d2[0.007], g[7.848]\n",
      ">25752, d1[0.009], d2[0.008], g[6.692]\n",
      ">25900, d1[0.148], d2[0.085], g[6.009]\n",
      ">26048, d1[1.316], d2[5.490], g[9.676]\n",
      ">26196, d1[0.142], d2[0.091], g[5.144]\n",
      ">26344, d1[0.145], d2[0.041], g[6.012]\n",
      ">26492, d1[0.009], d2[0.005], g[6.503]\n",
      ">26640, d1[0.005], d2[0.024], g[7.792]\n",
      "Saved: gen_plot_26640.png and gen_model_26640.hdf5\n",
      ">26788, d1[0.183], d2[0.073], g[5.975]\n",
      ">26936, d1[0.070], d2[0.027], g[5.638]\n",
      ">27084, d1[0.117], d2[0.022], g[6.658]\n",
      ">27232, d1[0.103], d2[0.049], g[7.701]\n",
      ">27380, d1[0.003], d2[0.018], g[9.220]\n",
      ">27528, d1[0.571], d2[0.579], g[3.930]\n",
      ">27676, d1[0.037], d2[0.092], g[4.319]\n",
      ">27824, d1[0.251], d2[0.041], g[7.380]\n",
      ">27972, d1[0.165], d2[0.078], g[5.165]\n",
      ">28120, d1[0.215], d2[0.007], g[6.933]\n",
      "Saved: gen_plot_28120.png and gen_model_28120.hdf5\n",
      ">28268, d1[0.061], d2[0.108], g[6.738]\n",
      ">28416, d1[0.244], d2[0.009], g[4.840]\n",
      ">28564, d1[0.059], d2[0.077], g[7.357]\n",
      ">28712, d1[0.191], d2[0.027], g[6.117]\n",
      ">28860, d1[0.014], d2[0.093], g[7.797]\n",
      ">29008, d1[0.018], d2[0.042], g[7.786]\n",
      ">29156, d1[0.007], d2[0.082], g[7.115]\n",
      ">29304, d1[0.025], d2[0.004], g[6.912]\n",
      ">29452, d1[0.131], d2[0.617], g[7.781]\n",
      ">29600, d1[0.081], d2[0.075], g[7.672]\n",
      "Saved: gen_plot_29600.png and gen_model_29600.hdf5\n"
     ]
    }
   ],
   "source": [
    "train(G, D, gan_model, trainX, latent_dim, n_epochs=200, n_batch=50)"
   ]
  },
  {
   "cell_type": "code",
   "execution_count": 0,
   "metadata": {
    "colab": {
     "base_uri": "https://localhost:8080/",
     "height": 34
    },
    "colab_type": "code",
    "id": "jxHTC1l4mQWQ",
    "outputId": "3ad09d44-75b0-479a-a8ec-b998b2a9b14e"
   },
   "outputs": [
    {
     "name": "stdout",
     "output_type": "stream",
     "text": [
      "/content/DCGAN\n"
     ]
    }
   ],
   "source": [
    "!pwd"
   ]
  },
  {
   "cell_type": "code",
   "execution_count": 0,
   "metadata": {
    "colab": {},
    "colab_type": "code",
    "id": "8Hot9tU9FYEJ"
   },
   "outputs": [],
   "source": [
    "gan_model.save('gan_model.hdf5')\n",
    "D.save('D_model.hdf5')\n",
    "G.save('G_model.hdf5')"
   ]
  },
  {
   "cell_type": "code",
   "execution_count": 0,
   "metadata": {
    "colab": {
     "base_uri": "https://localhost:8080/",
     "height": 1000
    },
    "colab_type": "code",
    "id": "h3ZPlyIVF45n",
    "outputId": "c70c2a3e-5b30-4480-aa74-763d258c0d08"
   },
   "outputs": [
    {
     "name": "stdout",
     "output_type": "stream",
     "text": [
      "Total steps: 14800\n",
      ">148, d1[0.008], d2[0.078], g[6.812]\n",
      ">296, d1[0.021], d2[0.061], g[7.010]\n",
      ">444, d1[0.014], d2[0.098], g[7.225]\n",
      ">592, d1[0.046], d2[0.056], g[9.040]\n",
      ">740, d1[0.044], d2[0.051], g[6.655]\n",
      ">888, d1[0.012], d2[0.005], g[8.671]\n",
      ">1036, d1[0.066], d2[0.045], g[6.355]\n",
      ">1184, d1[0.066], d2[0.128], g[7.066]\n",
      ">1332, d1[0.014], d2[0.037], g[7.153]\n",
      ">1480, d1[0.310], d2[0.093], g[8.324]\n",
      "Saved: gen_plot_1480.png and gen_model_1480.hdf5\n",
      ">1628, d1[0.052], d2[0.153], g[7.217]\n",
      ">1776, d1[0.463], d2[0.176], g[5.124]\n",
      ">1924, d1[0.066], d2[0.106], g[5.388]\n",
      ">2072, d1[0.040], d2[0.285], g[6.298]\n",
      ">2220, d1[0.071], d2[0.365], g[6.980]\n",
      ">2368, d1[0.199], d2[0.119], g[5.826]\n",
      ">2516, d1[0.049], d2[0.080], g[6.381]\n",
      ">2664, d1[0.133], d2[0.016], g[5.960]\n",
      ">2812, d1[0.053], d2[0.018], g[5.432]\n",
      ">2960, d1[0.025], d2[0.008], g[7.651]\n",
      "Saved: gen_plot_2960.png and gen_model_2960.hdf5\n",
      ">3108, d1[0.016], d2[0.016], g[6.456]\n",
      ">3256, d1[0.086], d2[0.053], g[6.901]\n",
      ">3404, d1[0.032], d2[0.064], g[6.679]\n",
      ">3552, d1[0.018], d2[0.027], g[6.807]\n",
      ">3700, d1[0.199], d2[0.090], g[6.044]\n",
      ">3848, d1[0.099], d2[0.018], g[6.829]\n",
      ">3996, d1[0.100], d2[0.116], g[6.741]\n",
      ">4144, d1[0.353], d2[0.199], g[7.395]\n",
      ">4292, d1[0.169], d2[0.267], g[8.144]\n",
      ">4440, d1[0.029], d2[0.020], g[8.515]\n",
      "Saved: gen_plot_4440.png and gen_model_4440.hdf5\n",
      ">4588, d1[0.048], d2[0.277], g[8.848]\n",
      ">4736, d1[0.078], d2[0.213], g[5.687]\n",
      ">4884, d1[0.095], d2[0.178], g[5.935]\n",
      ">5032, d1[0.980], d2[0.852], g[3.663]\n",
      ">5180, d1[0.093], d2[0.074], g[5.144]\n",
      ">5328, d1[0.059], d2[0.139], g[5.447]\n",
      ">5476, d1[0.181], d2[0.046], g[5.498]\n",
      ">5624, d1[0.036], d2[0.072], g[6.137]\n",
      ">5772, d1[0.131], d2[0.271], g[6.168]\n",
      ">5920, d1[0.066], d2[0.143], g[6.062]\n",
      "Saved: gen_plot_5920.png and gen_model_5920.hdf5\n",
      ">6068, d1[0.174], d2[0.034], g[6.234]\n",
      ">6216, d1[0.153], d2[0.246], g[6.709]\n",
      ">6364, d1[0.026], d2[0.019], g[6.178]\n",
      ">6512, d1[0.001], d2[0.019], g[8.613]\n",
      ">6660, d1[0.179], d2[0.062], g[7.770]\n",
      ">6808, d1[0.135], d2[0.030], g[6.521]\n",
      ">6956, d1[0.035], d2[0.009], g[6.437]\n",
      ">7104, d1[0.001], d2[0.001], g[9.043]\n",
      ">7252, d1[0.217], d2[0.013], g[7.642]\n",
      ">7400, d1[0.015], d2[0.015], g[6.331]\n",
      "Saved: gen_plot_7400.png and gen_model_7400.hdf5\n",
      ">7548, d1[0.076], d2[0.053], g[6.791]\n",
      ">7696, d1[0.008], d2[0.048], g[7.214]\n",
      ">7844, d1[0.004], d2[0.002], g[8.391]\n",
      ">7992, d1[0.082], d2[0.009], g[7.807]\n",
      ">8140, d1[0.076], d2[0.008], g[6.071]\n",
      ">8288, d1[0.124], d2[0.054], g[6.806]\n",
      ">8436, d1[0.075], d2[0.153], g[8.023]\n",
      ">8584, d1[0.278], d2[0.005], g[8.201]\n",
      ">8732, d1[0.223], d2[0.197], g[6.565]\n",
      ">8880, d1[0.023], d2[0.115], g[6.353]\n",
      "Saved: gen_plot_8880.png and gen_model_8880.hdf5\n",
      ">9028, d1[0.137], d2[0.023], g[7.360]\n",
      ">9176, d1[0.106], d2[0.362], g[8.853]\n",
      ">9324, d1[0.010], d2[0.017], g[7.347]\n",
      ">9472, d1[0.021], d2[0.007], g[6.647]\n",
      ">9620, d1[0.078], d2[0.109], g[7.799]\n",
      ">9768, d1[0.007], d2[0.007], g[7.457]\n",
      ">9916, d1[0.047], d2[0.233], g[10.264]\n",
      ">10064, d1[0.139], d2[0.018], g[6.846]\n",
      ">10212, d1[0.011], d2[0.007], g[7.897]\n",
      ">10360, d1[0.058], d2[0.060], g[6.486]\n",
      "Saved: gen_plot_10360.png and gen_model_10360.hdf5\n",
      ">10508, d1[0.011], d2[0.010], g[7.255]\n",
      ">10656, d1[0.004], d2[0.046], g[7.184]\n",
      ">10804, d1[0.160], d2[0.230], g[7.213]\n",
      ">10952, d1[0.019], d2[0.202], g[8.038]\n",
      ">11100, d1[0.000], d2[0.007], g[6.778]\n",
      ">11248, d1[0.303], d2[0.502], g[4.118]\n",
      ">11396, d1[0.217], d2[0.579], g[5.851]\n",
      ">11544, d1[0.217], d2[0.088], g[5.936]\n",
      ">11692, d1[0.079], d2[0.025], g[6.282]\n",
      ">11840, d1[0.011], d2[0.012], g[7.442]\n",
      "Saved: gen_plot_11840.png and gen_model_11840.hdf5\n",
      ">11988, d1[0.102], d2[0.065], g[7.340]\n",
      ">12136, d1[0.065], d2[0.068], g[8.045]\n",
      ">12284, d1[0.020], d2[0.087], g[6.861]\n",
      ">12432, d1[0.024], d2[0.027], g[6.104]\n",
      ">12580, d1[0.015], d2[0.061], g[6.468]\n",
      ">12728, d1[0.002], d2[0.008], g[7.240]\n",
      ">12876, d1[0.234], d2[0.072], g[7.166]\n",
      ">13024, d1[0.099], d2[0.110], g[8.771]\n",
      ">13172, d1[0.028], d2[0.132], g[10.301]\n",
      ">13320, d1[0.187], d2[0.041], g[8.636]\n",
      "Saved: gen_plot_13320.png and gen_model_13320.hdf5\n",
      ">13468, d1[0.008], d2[0.040], g[9.901]\n",
      ">13616, d1[0.026], d2[0.015], g[8.363]\n",
      ">13764, d1[0.001], d2[0.005], g[7.060]\n",
      ">13912, d1[0.039], d2[0.017], g[9.569]\n",
      ">14060, d1[0.110], d2[0.008], g[6.552]\n",
      ">14208, d1[0.007], d2[0.052], g[5.990]\n",
      ">14356, d1[0.051], d2[0.008], g[9.507]\n",
      ">14504, d1[0.036], d2[0.023], g[10.024]\n",
      ">14652, d1[0.032], d2[0.240], g[8.000]\n",
      ">14800, d1[0.206], d2[0.122], g[8.393]\n",
      "Saved: gen_plot_14800.png and gen_model_14800.hdf5\n"
     ]
    }
   ],
   "source": [
    "train(G, D, gan_model, trainX, latent_dim, n_epochs=100, n_batch=50)"
   ]
  },
  {
   "cell_type": "code",
   "execution_count": 0,
   "metadata": {
    "colab": {},
    "colab_type": "code",
    "id": "QlxJgpt5V6xR"
   },
   "outputs": [],
   "source": [
    "gan_model.save('gan_model.hdf5')\n",
    "D.save('D_model.hdf5')\n",
    "G.save('G_model.hdf5')"
   ]
  },
  {
   "cell_type": "code",
   "execution_count": 0,
   "metadata": {
    "colab": {},
    "colab_type": "code",
    "id": "0DnQRN_VWUWG"
   },
   "outputs": [],
   "source": []
  }
 ],
 "metadata": {
  "accelerator": "GPU",
  "colab": {
   "collapsed_sections": [],
   "name": "Assignment-19-DCGAN.ipynb",
   "provenance": [],
   "toc_visible": true
  },
  "kernelspec": {
   "display_name": "Python 3",
   "language": "python",
   "name": "python3"
  },
  "language_info": {
   "codemirror_mode": {
    "name": "ipython",
    "version": 3
   },
   "file_extension": ".py",
   "mimetype": "text/x-python",
   "name": "python",
   "nbconvert_exporter": "python",
   "pygments_lexer": "ipython3",
   "version": "3.7.3"
  }
 },
 "nbformat": 4,
 "nbformat_minor": 1
}
